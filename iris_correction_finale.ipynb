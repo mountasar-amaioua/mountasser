{
 "cells": [
  {
   "cell_type": "markdown",
   "metadata": {},
   "source": [
    "<div id=\"titre\">\n",
    "<h1 style=\"color:white;\n",
    "  font-family:Comic Sans MS;\n",
    "  font-size:3em;\n",
    "  background-color:#F0573B;\n",
    "  text-align:center;\n",
    "  padding:10px\">Par Osiris et par Apis, tu fais maintenant du machine learning </h1>\n",
    "<div style=\"font-family:Comic Sans MS; background-color:black;box-shadow: 8px 8px 0px #aaa; text-align:center; width: 50%; color:white\">TP  - Statitique</div>\n",
    "</div>"
   ]
  },
  {
   "cell_type": "markdown",
   "metadata": {},
   "source": [
    "En 1936, le biologiste américain <b>Edgar Anderson</b> a collecté les données sur 3 espèces d'iris :\n",
    "<table style=\"border-width:10px;border-style:solid;border-color:white;border-collapse:collapse;\" width=\"700\">\n",
    "   <tr style=\"border:2px solid black;\">\n",
    "       <td style=\"border:2px solid black;text-align:center;border-color:white\"><img src=iris_setosa.jpeg width='200'></td>\n",
    "       <td style=\"border:2px solid black;text-align:center;border-color:white\"><img src=iris_versicolor.jpeg width='200'></td>\n",
    "       <td style=\"border:2px solid black;text-align:center;border-color:white\"><img src=iris_virginica.jpeg width='200'></td>\n",
    "   </tr>\n",
    "    <tr style=\"border:2px solid black;\">\n",
    "        <td style=\"border:2px solid black;text-align:center;border-color:white\"><b>Setosa</b></td>\n",
    "        <td style=\"border:2px solid black;text-align:center;border-color:white\"><b>Versicolor</b></td>\n",
    "        <td style=\"border:2px solid black;text-align:center;border-color:white\"><b>Virginica</b></td>\n",
    "   </tr>\n",
    "</table>\n",
    "Pour chaque iris étudié, Anderson a mesuré (en cm) ses dimensions. \n",
    "\n",
    "Chaque ligne du fichier <code>'iris.csv'</code> correspond aux résultats d'un iris :\n",
    "<ul>\n",
    "    <li><code>x</code> : longueur de son pétale</li>\n",
    "    <li><code>y</code> : largeur de son pétale</li>\n",
    "    <li><code>variété</code> : nom de sa variété</li>\n",
    "</ul>\n",
    "<br>\n",
    "<b><u>Objectifs</u></b>\n",
    "<blockquote style=\"border-left: 10px solid black;background-color:#F0573B\">\n",
    "    <ul>\n",
    "        <li>Etudier ce jeu de données et apprendre à la machine à reconnaître des iris <b>Setosa</b>, <b>Versicolor</b> et <b>Virginica</b>.\n",
    "        </li>\n",
    "        <li>Prédire la variété d'un nouvel iris à partir de ses dimensions en recherchant ses voisins les plus proches ! \n",
    "            <span style='color:red;background-color:orange'><b>Bienvenue dans le monde du machine learning et de l'intelligence artificielle !</b></span>\n",
    "        </li>\n",
    "    </ul>\n",
    "</blockquote>"
   ]
  },
  {
   "cell_type": "markdown",
   "metadata": {},
   "source": [
    "<h1 style=\"color:white;background-color:black;text-align:center\"> Partie A : ouverture avec Python</h1>"
   ]
  },
  {
   "cell_type": "code",
   "execution_count": 1,
   "metadata": {},
   "outputs": [
    {
     "data": {
      "text/html": [
       "<div>\n",
       "<style scoped>\n",
       "    .dataframe tbody tr th:only-of-type {\n",
       "        vertical-align: middle;\n",
       "    }\n",
       "\n",
       "    .dataframe tbody tr th {\n",
       "        vertical-align: top;\n",
       "    }\n",
       "\n",
       "    .dataframe thead th {\n",
       "        text-align: right;\n",
       "    }\n",
       "</style>\n",
       "<table border=\"1\" class=\"dataframe\">\n",
       "  <thead>\n",
       "    <tr style=\"text-align: right;\">\n",
       "      <th></th>\n",
       "      <th>x</th>\n",
       "      <th>y</th>\n",
       "      <th>variété</th>\n",
       "    </tr>\n",
       "  </thead>\n",
       "  <tbody>\n",
       "    <tr>\n",
       "      <th>0</th>\n",
       "      <td>1.4</td>\n",
       "      <td>0.2</td>\n",
       "      <td>Setosa</td>\n",
       "    </tr>\n",
       "    <tr>\n",
       "      <th>1</th>\n",
       "      <td>1.4</td>\n",
       "      <td>0.2</td>\n",
       "      <td>Setosa</td>\n",
       "    </tr>\n",
       "    <tr>\n",
       "      <th>2</th>\n",
       "      <td>1.3</td>\n",
       "      <td>0.2</td>\n",
       "      <td>Setosa</td>\n",
       "    </tr>\n",
       "    <tr>\n",
       "      <th>3</th>\n",
       "      <td>1.5</td>\n",
       "      <td>0.2</td>\n",
       "      <td>Setosa</td>\n",
       "    </tr>\n",
       "    <tr>\n",
       "      <th>4</th>\n",
       "      <td>1.4</td>\n",
       "      <td>0.2</td>\n",
       "      <td>Setosa</td>\n",
       "    </tr>\n",
       "  </tbody>\n",
       "</table>\n",
       "</div>"
      ],
      "text/plain": [
       "     x    y variété\n",
       "0  1.4  0.2  Setosa\n",
       "1  1.4  0.2  Setosa\n",
       "2  1.3  0.2  Setosa\n",
       "3  1.5  0.2  Setosa\n",
       "4  1.4  0.2  Setosa"
      ]
     },
     "execution_count": 1,
     "metadata": {},
     "output_type": "execute_result"
    }
   ],
   "source": [
    "import pandas\n",
    "import pylab as pl\n",
    "pl.style.use('bmh')\n",
    "\n",
    "from seaborn import boxplot, pairplot\n",
    "\n",
    "T = pandas.read_csv('iris_elv.csv')\n",
    "T.head()"
   ]
  },
  {
   "cell_type": "markdown",
   "metadata": {},
   "source": [
    "<h1 style=\"color:white;background-color:black;text-align:center\"> Partie B : Comparaisons puis normalisation des variables statistiques<code>x</code> et <code>y</code></h1>"
   ]
  },
  {
   "cell_type": "markdown",
   "metadata": {},
   "source": [
    "<span style='color:white;font-weight:bold;background-color:black;width:12px;padding: 2px;font-size:20px'>1.</span> Moyennes et écarts-types"
   ]
  },
  {
   "cell_type": "markdown",
   "metadata": {},
   "source": [
    "<span style='color:white;font-weight:bold;background-color:#F0573B;padding: 2px;font-size:20px'>a.</span> Pour calculer la moyenne et l'écart-type de <code>'x'</code>, exécuter :"
   ]
  },
  {
   "cell_type": "code",
   "execution_count": 2,
   "metadata": {},
   "outputs": [
    {
     "data": {
      "text/plain": [
       "(3.7580000000000005, 1.7652982332594662)"
      ]
     },
     "execution_count": 2,
     "metadata": {},
     "output_type": "execute_result"
    }
   ],
   "source": [
    "m1 = T['x'].mean()\n",
    "s1 = T['x'].std()\n",
    "m1 , s1"
   ]
  },
  {
   "cell_type": "markdown",
   "metadata": {},
   "source": [
    "<span style='color:white;font-weight:bold;background-color:#F0573B;padding: 2px;font-size:20px'>b.</span> Calculer la moyenne et l'écart-type de <code>'y'</code>"
   ]
  },
  {
   "cell_type": "code",
   "execution_count": 3,
   "metadata": {},
   "outputs": [
    {
     "data": {
      "text/plain": [
       "(1.1993333333333336, 0.7622376689603465)"
      ]
     },
     "execution_count": 3,
     "metadata": {},
     "output_type": "execute_result"
    }
   ],
   "source": [
    "m2 = T['y'].mean()\n",
    "s2 = T['y'].std()\n",
    "m2 , s2"
   ]
  },
  {
   "cell_type": "markdown",
   "metadata": {},
   "source": [
    "<span style='color:white;font-weight:bold;background-color:black;width:12px;padding: 2px;font-size:20px'>2.</span> Normalisation des colonnes"
   ]
  },
  {
   "cell_type": "markdown",
   "metadata": {},
   "source": [
    "<b><u>Définitions</u></b>\n",
    "<blockquote style=\"border-left: 10px solid black;background-color:#F0573B\">\n",
    "    <ul>\n",
    "        <li>Soit $x$ la longueur d'un iris.\n",
    "            <br>Sa valeur <b>normalisée</b> par rapport aux autres longueurs de <code>'x'</code> est : $$\\boxed{\\dfrac{x - m1}{s1}}.$$\n",
    "            <i style='color:yellow'>C'est l'écart à la moyenne $m1$ compté en écart-type $s1$.</i>\n",
    "        </li>\n",
    "        <br>\n",
    "        <li>Soit $y$ la largeur d'un iris.\n",
    "            <br>Sa valeur <b>normalisée</b> par rapport aux autres largeurs de <code>'y'</code> est : $$\\boxed{\\dfrac{y - m2}{s2}}.$$\n",
    "            <i style='color:yellow'>C'est l'écart à la moyenne $m2$ compté en écart-type $s2$</i>.\n",
    "        </li>\n",
    "    </ul>\n",
    "</blockquote>"
   ]
  },
  {
   "cell_type": "markdown",
   "metadata": {},
   "source": [
    "<span style='color:white;font-weight:bold;background-color:#F0573B;padding: 2px;font-size:20px'>a.</span> Calculer la valeur normalisée de $1,4$ par rapport aux longueurs contenues <code>x</code> :"
   ]
  },
  {
   "cell_type": "code",
   "execution_count": 4,
   "metadata": {},
   "outputs": [
    {
     "data": {
      "text/plain": [
       "-1.3357516342415203"
      ]
     },
     "execution_count": 4,
     "metadata": {},
     "output_type": "execute_result"
    }
   ],
   "source": [
    "(1.4 - m1)/s1"
   ]
  },
  {
   "cell_type": "markdown",
   "metadata": {},
   "source": [
    "<span style='color:white;font-weight:bold;background-color:#F0573B;padding: 2px;font-size:20px'>b.</span> Soit la fonction nommée <code>norm</code> de paramètres :\n",
    "<ul>\n",
    "    <li><code>valeur</code> <i>(une valeur)</i></li>\n",
    "    <li><code>moy</code> <i>(la moyenne des valeurs de la série statistique)</i></li>\n",
    "    <li><code>sig</code> <i>(l'écart-type des valeurs de la série statistique)</i></li>\n",
    "</ul>\n",
    "Elle renvoie sa valeur normalisée par rapport à une colonne de moyenne <code>moy</code> et d'écart-type <code>sig</code>.\n",
    "<br> Compléter les pointillés de cette fonction."
   ]
  },
  {
   "cell_type": "code",
   "execution_count": 5,
   "metadata": {},
   "outputs": [],
   "source": [
    "def norm(valeur,moy,sig):\n",
    "    return (valeur - moy)/sig"
   ]
  },
  {
   "cell_type": "markdown",
   "metadata": {},
   "source": [
    "<span style='color:white;font-weight:bold;background-color:#F0573B;padding: 2px;font-size:20px'>c.</span> Pour normaliser chaque valeur de <code>'x'</code>, exécuter :"
   ]
  },
  {
   "cell_type": "code",
   "execution_count": 6,
   "metadata": {},
   "outputs": [
    {
     "data": {
      "text/plain": [
       "0     -1.335752\n",
       "1     -1.335752\n",
       "2     -1.392399\n",
       "3     -1.279104\n",
       "4     -1.335752\n",
       "         ...   \n",
       "145    0.816859\n",
       "146    0.703564\n",
       "147    0.816859\n",
       "148    0.930154\n",
       "149    0.760211\n",
       "Name: x, Length: 150, dtype: float64"
      ]
     },
     "execution_count": 6,
     "metadata": {},
     "output_type": "execute_result"
    }
   ],
   "source": [
    "norm(T['x'],m1,s1)"
   ]
  },
  {
   "cell_type": "markdown",
   "metadata": {},
   "source": [
    "<span style='color:white;font-weight:bold;background-color:#F0573B;padding: 2px;font-size:20px'>c.</span> Compléter les instructions suivantes pour obtenir les valeurs normalisées de <code>'x'</code> dans une nouvelle colonne de <code>T</code> nommée <code>x_norm</code>.\n",
    "<br> Faire de même pour <code>'y'</code>."
   ]
  },
  {
   "cell_type": "code",
   "execution_count": 7,
   "metadata": {},
   "outputs": [
    {
     "data": {
      "text/html": [
       "<div>\n",
       "<style scoped>\n",
       "    .dataframe tbody tr th:only-of-type {\n",
       "        vertical-align: middle;\n",
       "    }\n",
       "\n",
       "    .dataframe tbody tr th {\n",
       "        vertical-align: top;\n",
       "    }\n",
       "\n",
       "    .dataframe thead th {\n",
       "        text-align: right;\n",
       "    }\n",
       "</style>\n",
       "<table border=\"1\" class=\"dataframe\">\n",
       "  <thead>\n",
       "    <tr style=\"text-align: right;\">\n",
       "      <th></th>\n",
       "      <th>x</th>\n",
       "      <th>y</th>\n",
       "      <th>variété</th>\n",
       "      <th>x_norm</th>\n",
       "      <th>y_norm</th>\n",
       "    </tr>\n",
       "  </thead>\n",
       "  <tbody>\n",
       "    <tr>\n",
       "      <th>0</th>\n",
       "      <td>1.4</td>\n",
       "      <td>0.2</td>\n",
       "      <td>Setosa</td>\n",
       "      <td>-1.335752</td>\n",
       "      <td>-1.311052</td>\n",
       "    </tr>\n",
       "    <tr>\n",
       "      <th>1</th>\n",
       "      <td>1.4</td>\n",
       "      <td>0.2</td>\n",
       "      <td>Setosa</td>\n",
       "      <td>-1.335752</td>\n",
       "      <td>-1.311052</td>\n",
       "    </tr>\n",
       "    <tr>\n",
       "      <th>2</th>\n",
       "      <td>1.3</td>\n",
       "      <td>0.2</td>\n",
       "      <td>Setosa</td>\n",
       "      <td>-1.392399</td>\n",
       "      <td>-1.311052</td>\n",
       "    </tr>\n",
       "    <tr>\n",
       "      <th>3</th>\n",
       "      <td>1.5</td>\n",
       "      <td>0.2</td>\n",
       "      <td>Setosa</td>\n",
       "      <td>-1.279104</td>\n",
       "      <td>-1.311052</td>\n",
       "    </tr>\n",
       "    <tr>\n",
       "      <th>4</th>\n",
       "      <td>1.4</td>\n",
       "      <td>0.2</td>\n",
       "      <td>Setosa</td>\n",
       "      <td>-1.335752</td>\n",
       "      <td>-1.311052</td>\n",
       "    </tr>\n",
       "  </tbody>\n",
       "</table>\n",
       "</div>"
      ],
      "text/plain": [
       "     x    y variété    x_norm    y_norm\n",
       "0  1.4  0.2  Setosa -1.335752 -1.311052\n",
       "1  1.4  0.2  Setosa -1.335752 -1.311052\n",
       "2  1.3  0.2  Setosa -1.392399 -1.311052\n",
       "3  1.5  0.2  Setosa -1.279104 -1.311052\n",
       "4  1.4  0.2  Setosa -1.335752 -1.311052"
      ]
     },
     "execution_count": 7,
     "metadata": {},
     "output_type": "execute_result"
    }
   ],
   "source": [
    "T['x_norm'] = norm(T['x'],m1,s1)\n",
    "T['y_norm'] = norm(T['y'],m2,s2)\n",
    "T.head()"
   ]
  },
  {
   "cell_type": "markdown",
   "metadata": {},
   "source": [
    "<span style='color:white;font-weight:bold;background-color:#F0573B;padding: 2px;font-size:20px'>d.</span> Exécuter le code suivant qui permet de représenter les boîtes à moustaches de <code>'x'</code>, <code>'x_norm'</code>, <code>'y'</code> et <code>'y_norm'</code>."
   ]
  },
  {
   "cell_type": "code",
   "execution_count": 8,
   "metadata": {
    "scrolled": true
   },
   "outputs": [
    {
     "data": {
      "text/plain": [
       "<matplotlib.axes._subplots.AxesSubplot at 0x7fb7de8cada0>"
      ]
     },
     "execution_count": 8,
     "metadata": {},
     "output_type": "execute_result"
    },
    {
     "data": {
      "image/png": "[encoded data removed]",
      "text/plain": [
       "<Figure size 432x288 with 1 Axes>"
      ]
     },
     "metadata": {
      "needs_background": "light"
     },
     "output_type": "display_data"
    }
   ],
   "source": [
    "boxplot(data=T,whis='range', order=['x','x_norm','y','y_norm'])"
   ]
  },
  {
   "cell_type": "markdown",
   "metadata": {},
   "source": [
    "<ol>\n",
    "    <li> Les valeurs de <code>'x'</code> et celles de <code>'y'</code> se répartissent-elles de la même façon ? <i>(oui ou non)</i></li>\n",
    "    <li> Les valeurs de <code>'x_norm'</code> et celles de <code>'y_norm'</code> se répartissent-elles de la même façon ? <i>(oui ou non)</i></li>\n",
    "    <li> Dans quel intervalle se répartissent les valeurs normalisées de <code>'x'</code> et de <code>'y'</code> ? </li>\n",
    "</ol>"
   ]
  },
  {
   "cell_type": "markdown",
   "metadata": {},
   "source": [
    "<span style='color:white;font-weight:bold;background-color:#F0573B;padding: 2px;font-size:20px'>e.</span> En exécutant le code suivant, que devient la moyenne et l'écart-type de valeurs normalisées ?  "
   ]
  },
  {
   "cell_type": "code",
   "execution_count": 9,
   "metadata": {},
   "outputs": [
    {
     "data": {
      "text/html": [
       "<div>\n",
       "<style scoped>\n",
       "    .dataframe tbody tr th:only-of-type {\n",
       "        vertical-align: middle;\n",
       "    }\n",
       "\n",
       "    .dataframe tbody tr th {\n",
       "        vertical-align: top;\n",
       "    }\n",
       "\n",
       "    .dataframe thead th {\n",
       "        text-align: right;\n",
       "    }\n",
       "</style>\n",
       "<table border=\"1\" class=\"dataframe\">\n",
       "  <thead>\n",
       "    <tr style=\"text-align: right;\">\n",
       "      <th></th>\n",
       "      <th>x</th>\n",
       "      <th>y</th>\n",
       "      <th>x_norm</th>\n",
       "      <th>y_norm</th>\n",
       "    </tr>\n",
       "  </thead>\n",
       "  <tbody>\n",
       "    <tr>\n",
       "      <th>mean</th>\n",
       "      <td>3.758000</td>\n",
       "      <td>1.199333</td>\n",
       "      <td>-2.842171e-16</td>\n",
       "      <td>-3.789561e-16</td>\n",
       "    </tr>\n",
       "    <tr>\n",
       "      <th>std</th>\n",
       "      <td>1.765298</td>\n",
       "      <td>0.762238</td>\n",
       "      <td>1.000000e+00</td>\n",
       "      <td>1.000000e+00</td>\n",
       "    </tr>\n",
       "  </tbody>\n",
       "</table>\n",
       "</div>"
      ],
      "text/plain": [
       "             x         y        x_norm        y_norm\n",
       "mean  3.758000  1.199333 -2.842171e-16 -3.789561e-16\n",
       "std   1.765298  0.762238  1.000000e+00  1.000000e+00"
      ]
     },
     "execution_count": 9,
     "metadata": {},
     "output_type": "execute_result"
    }
   ],
   "source": [
    "T.describe().query('index in [\"mean\",\"std\"]')"
   ]
  },
  {
   "cell_type": "markdown",
   "metadata": {},
   "source": [
    "<h1 style=\"color:white;background-color:black;text-align:center\"> Partie C : Prédire l'espèce d'un nouvel iris</h1>"
   ]
  },
  {
   "cell_type": "markdown",
   "metadata": {},
   "source": [
    "<b><u>Objectif</u></b>\n",
    "<blockquote style=\"border-left: 10px solid black;background-color:#F0573B\">\n",
    "Un nouvel iris a pour dimensions : \n",
    "    <ul>\n",
    "        <li>$2$ cm de longueur</li>\n",
    "        <li>$0.5$ cm de largeur </li>\n",
    "    </ul>\n",
    "    Nous souhaitons <b>prédire</b> le nom de sa variété d'iris.\n",
    "</blockquote>"
   ]
  },
  {
   "cell_type": "markdown",
   "metadata": {},
   "source": [
    "<span style='color:white;font-weight:bold;background-color:black;width:12px;padding: 2px;font-size:20px'>1.</span> Nuage de points des iris"
   ]
  },
  {
   "cell_type": "markdown",
   "metadata": {},
   "source": [
    "<span style='color:white;font-weight:bold;background-color:#F0573B;padding: 2px;font-size:20px'>a.</span> Pour chaque iris, on représente sa <b>largeur normalisée</b> en fonction de sa </b>longueur normalisée</b>, <b>selon sa variété</b>. \n",
    "<br> Exécuter le code suivant."
   ]
  },
  {
   "cell_type": "code",
   "execution_count": 10,
   "metadata": {},
   "outputs": [
    {
     "data": {
      "application/javascript": [
       "/* Put everything inside the global mpl namespace */\n",
       "window.mpl = {};\n",
       "\n",
       "\n",
       "mpl.get_websocket_type = function() {\n",
       "    if (typeof(WebSocket) !== 'undefined') {\n",
       "        return WebSocket;\n",
       "    } else if (typeof(MozWebSocket) !== 'undefined') {\n",
       "        return MozWebSocket;\n",
       "    } else {\n",
       "        alert('Your browser does not have WebSocket support. ' +\n",
       "              'Please try Chrome, Safari or Firefox ≥ 6. ' +\n",
       "              'Firefox 4 and 5 are also supported but you ' +\n",
       "              'have to enable WebSockets in about:config.');\n",
       "    };\n",
       "}\n",
       "\n",
       "mpl.figure = function(figure_id, websocket, ondownload, parent_element) {\n",
       "    this.id = figure_id;\n",
       "\n",
       "    this.ws = websocket;\n",
       "\n",
       "    this.supports_binary = (this.ws.binaryType != undefined);\n",
       "\n",
       "    if (!this.supports_binary) {\n",
       "        var warnings = document.getElementById(\"mpl-warnings\");\n",
       "        if (warnings) {\n",
       "            warnings.style.display = 'block';\n",
       "            warnings.textContent = (\n",
       "                \"This browser does not support binary websocket messages. \" +\n",
       "                    \"Performance may be slow.\");\n",
       "        }\n",
       "    }\n",
       "\n",
       "    this.imageObj = new Image();\n",
       "\n",
       "    this.context = undefined;\n",
       "    this.message = undefined;\n",
       "    this.canvas = undefined;\n",
       "    this.rubberband_canvas = undefined;\n",
       "    this.rubberband_context = undefined;\n",
       "    this.format_dropdown = undefined;\n",
       "\n",
       "    this.image_mode = 'full';\n",
       "\n",
       "    this.root = $('<div/>');\n",
       "    this._root_extra_style(this.root)\n",
       "    this.root.attr('style', 'display: inline-block');\n",
       "\n",
       "    $(parent_element).append(this.root);\n",
       "\n",
       "    this._init_header(this);\n",
       "    this._init_canvas(this);\n",
       "    this._init_toolbar(this);\n",
       "\n",
       "    var fig = this;\n",
       "\n",
       "    this.waiting = false;\n",
       "\n",
       "    this.ws.onopen =  function () {\n",
       "            fig.send_message(\"supports_binary\", {value: fig.supports_binary});\n",
       "            fig.send_message(\"send_image_mode\", {});\n",
       "            if (mpl.ratio != 1) {\n",
       "                fig.send_message(\"set_dpi_ratio\", {'dpi_ratio': mpl.ratio});\n",
       "            }\n",
       "            fig.send_message(\"refresh\", {});\n",
       "        }\n",
       "\n",
       "    this.imageObj.onload = function() {\n",
       "            if (fig.image_mode == 'full') {\n",
       "                // Full images could contain transparency (where diff images\n",
       "                // almost always do), so we need to clear the canvas so that\n",
       "                // there is no ghosting.\n",
       "                fig.context.clearRect(0, 0, fig.canvas.width, fig.canvas.height);\n",
       "            }\n",
       "            fig.context.drawImage(fig.imageObj, 0, 0);\n",
       "        };\n",
       "\n",
       "    this.imageObj.onunload = function() {\n",
       "        fig.ws.close();\n",
       "    }\n",
       "\n",
       "    this.ws.onmessage = this._make_on_message_function(this);\n",
       "\n",
       "    this.ondownload = ondownload;\n",
       "}\n",
       "\n",
       "mpl.figure.prototype._init_header = function() {\n",
       "    var titlebar = $(\n",
       "        '<div class=\"ui-dialog-titlebar ui-widget-header ui-corner-all ' +\n",
       "        'ui-helper-clearfix\"/>');\n",
       "    var titletext = $(\n",
       "        '<div class=\"ui-dialog-title\" style=\"width: 100%; ' +\n",
       "        'text-align: center; padding: 3px;\"/>');\n",
       "    titlebar.append(titletext)\n",
       "    this.root.append(titlebar);\n",
       "    this.header = titletext[0];\n",
       "}\n",
       "\n",
       "\n",
       "\n",
       "mpl.figure.prototype._canvas_extra_style = function(canvas_div) {\n",
       "\n",
       "}\n",
       "\n",
       "\n",
       "mpl.figure.prototype._root_extra_style = function(canvas_div) {\n",
       "\n",
       "}\n",
       "\n",
       "mpl.figure.prototype._init_canvas = function() {\n",
       "    var fig = this;\n",
       "\n",
       "    var canvas_div = $('<div/>');\n",
       "\n",
       "    canvas_div.attr('style', 'position: relative; clear: both; outline: 0');\n",
       "\n",
       "    function canvas_keyboard_event(event) {\n",
       "        return fig.key_event(event, event['data']);\n",
       "    }\n",
       "\n",
       "    canvas_div.keydown('key_press', canvas_keyboard_event);\n",
       "    canvas_div.keyup('key_release', canvas_keyboard_event);\n",
       "    this.canvas_div = canvas_div\n",
       "    this._canvas_extra_style(canvas_div)\n",
       "    this.root.append(canvas_div);\n",
       "\n",
       "    var canvas = $('<canvas/>');\n",
       "    canvas.addClass('mpl-canvas');\n",
       "    canvas.attr('style', \"left: 0; top: 0; z-index: 0; outline: 0\")\n",
       "\n",
       "    this.canvas = canvas[0];\n",
       "    this.context = canvas[0].getContext(\"2d\");\n",
       "\n",
       "    var backingStore = this.context.backingStorePixelRatio ||\n",
       "\tthis.context.webkitBackingStorePixelRatio ||\n",
       "\tthis.context.mozBackingStorePixelRatio ||\n",
       "\tthis.context.msBackingStorePixelRatio ||\n",
       "\tthis.context.oBackingStorePixelRatio ||\n",
       "\tthis.context.backingStorePixelRatio || 1;\n",
       "\n",
       "    mpl.ratio = (window.devicePixelRatio || 1) / backingStore;\n",
       "\n",
       "    var rubberband = $('<canvas/>');\n",
       "    rubberband.attr('style', \"position: absolute; left: 0; top: 0; z-index: 1;\")\n",
       "\n",
       "    var pass_mouse_events = true;\n",
       "\n",
       "    canvas_div.resizable({\n",
       "        start: function(event, ui) {\n",
       "            pass_mouse_events = false;\n",
       "        },\n",
       "        resize: function(event, ui) {\n",
       "            fig.request_resize(ui.size.width, ui.size.height);\n",
       "        },\n",
       "        stop: function(event, ui) {\n",
       "            pass_mouse_events = true;\n",
       "            fig.request_resize(ui.size.width, ui.size.height);\n",
       "        },\n",
       "    });\n",
       "\n",
       "    function mouse_event_fn(event) {\n",
       "        if (pass_mouse_events)\n",
       "            return fig.mouse_event(event, event['data']);\n",
       "    }\n",
       "\n",
       "    rubberband.mousedown('button_press', mouse_event_fn);\n",
       "    rubberband.mouseup('button_release', mouse_event_fn);\n",
       "    // Throttle sequential mouse events to 1 every 20ms.\n",
       "    rubberband.mousemove('motion_notify', mouse_event_fn);\n",
       "\n",
       "    rubberband.mouseenter('figure_enter', mouse_event_fn);\n",
       "    rubberband.mouseleave('figure_leave', mouse_event_fn);\n",
       "\n",
       "    canvas_div.on(\"wheel\", function (event) {\n",
       "        event = event.originalEvent;\n",
       "        event['data'] = 'scroll'\n",
       "        if (event.deltaY < 0) {\n",
       "            event.step = 1;\n",
       "        } else {\n",
       "            event.step = -1;\n",
       "        }\n",
       "        mouse_event_fn(event);\n",
       "    });\n",
       "\n",
       "    canvas_div.append(canvas);\n",
       "    canvas_div.append(rubberband);\n",
       "\n",
       "    this.rubberband = rubberband;\n",
       "    this.rubberband_canvas = rubberband[0];\n",
       "    this.rubberband_context = rubberband[0].getContext(\"2d\");\n",
       "    this.rubberband_context.strokeStyle = \"#000000\";\n",
       "\n",
       "    this._resize_canvas = function(width, height) {\n",
       "        // Keep the size of the canvas, canvas container, and rubber band\n",
       "        // canvas in synch.\n",
       "        canvas_div.css('width', width)\n",
       "        canvas_div.css('height', height)\n",
       "\n",
       "        canvas.attr('width', width * mpl.ratio);\n",
       "        canvas.attr('height', height * mpl.ratio);\n",
       "        canvas.attr('style', 'width: ' + width + 'px; height: ' + height + 'px;');\n",
       "\n",
       "        rubberband.attr('width', width);\n",
       "        rubberband.attr('height', height);\n",
       "    }\n",
       "\n",
       "    // Set the figure to an initial 600x600px, this will subsequently be updated\n",
       "    // upon first draw.\n",
       "    this._resize_canvas(600, 600);\n",
       "\n",
       "    // Disable right mouse context menu.\n",
       "    $(this.rubberband_canvas).bind(\"contextmenu\",function(e){\n",
       "        return false;\n",
       "    });\n",
       "\n",
       "    function set_focus () {\n",
       "        canvas.focus();\n",
       "        canvas_div.focus();\n",
       "    }\n",
       "\n",
       "    window.setTimeout(set_focus, 100);\n",
       "}\n",
       "\n",
       "mpl.figure.prototype._init_toolbar = function() {\n",
       "    var fig = this;\n",
       "\n",
       "    var nav_element = $('<div/>');\n",
       "    nav_element.attr('style', 'width: 100%');\n",
       "    this.root.append(nav_element);\n",
       "\n",
       "    // Define a callback function for later on.\n",
       "    function toolbar_event(event) {\n",
       "        return fig.toolbar_button_onclick(event['data']);\n",
       "    }\n",
       "    function toolbar_mouse_event(event) {\n",
       "        return fig.toolbar_button_onmouseover(event['data']);\n",
       "    }\n",
       "\n",
       "    for(var toolbar_ind in mpl.toolbar_items) {\n",
       "        var name = mpl.toolbar_items[toolbar_ind][0];\n",
       "        var tooltip = mpl.toolbar_items[toolbar_ind][1];\n",
       "        var image = mpl.toolbar_items[toolbar_ind][2];\n",
       "        var method_name = mpl.toolbar_items[toolbar_ind][3];\n",
       "\n",
       "        if (!name) {\n",
       "            // put a spacer in here.\n",
       "            continue;\n",
       "        }\n",
       "        var button = $('<button/>');\n",
       "        button.addClass('ui-button ui-widget ui-state-default ui-corner-all ' +\n",
       "                        'ui-button-icon-only');\n",
       "        button.attr('role', 'button');\n",
       "        button.attr('aria-disabled', 'false');\n",
       "        button.click(method_name, toolbar_event);\n",
       "        button.mouseover(tooltip, toolbar_mouse_event);\n",
       "\n",
       "        var icon_img = $('<span/>');\n",
       "        icon_img.addClass('ui-button-icon-primary ui-icon');\n",
       "        icon_img.addClass(image);\n",
       "        icon_img.addClass('ui-corner-all');\n",
       "\n",
       "        var tooltip_span = $('<span/>');\n",
       "        tooltip_span.addClass('ui-button-text');\n",
       "        tooltip_span.html(tooltip);\n",
       "\n",
       "        button.append(icon_img);\n",
       "        button.append(tooltip_span);\n",
       "\n",
       "        nav_element.append(button);\n",
       "    }\n",
       "\n",
       "    var fmt_picker_span = $('<span/>');\n",
       "\n",
       "    var fmt_picker = $('<select/>');\n",
       "    fmt_picker.addClass('mpl-toolbar-option ui-widget ui-widget-content');\n",
       "    fmt_picker_span.append(fmt_picker);\n",
       "    nav_element.append(fmt_picker_span);\n",
       "    this.format_dropdown = fmt_picker[0];\n",
       "\n",
       "    for (var ind in mpl.extensions) {\n",
       "        var fmt = mpl.extensions[ind];\n",
       "        var option = $(\n",
       "            '<option/>', {selected: fmt === mpl.default_extension}).html(fmt);\n",
       "        fmt_picker.append(option);\n",
       "    }\n",
       "\n",
       "    // Add hover states to the ui-buttons\n",
       "    $( \".ui-button\" ).hover(\n",
       "        function() { $(this).addClass(\"ui-state-hover\");},\n",
       "        function() { $(this).removeClass(\"ui-state-hover\");}\n",
       "    );\n",
       "\n",
       "    var status_bar = $('<span class=\"mpl-message\"/>');\n",
       "    nav_element.append(status_bar);\n",
       "    this.message = status_bar[0];\n",
       "}\n",
       "\n",
       "mpl.figure.prototype.request_resize = function(x_pixels, y_pixels) {\n",
       "    // Request matplotlib to resize the figure. Matplotlib will then trigger a resize in the client,\n",
       "    // which will in turn request a refresh of the image.\n",
       "    this.send_message('resize', {'width': x_pixels, 'height': y_pixels});\n",
       "}\n",
       "\n",
       "mpl.figure.prototype.send_message = function(type, properties) {\n",
       "    properties['type'] = type;\n",
       "    properties['figure_id'] = this.id;\n",
       "    this.ws.send(JSON.stringify(properties));\n",
       "}\n",
       "\n",
       "mpl.figure.prototype.send_draw_message = function() {\n",
       "    if (!this.waiting) {\n",
       "        this.waiting = true;\n",
       "        this.ws.send(JSON.stringify({type: \"draw\", figure_id: this.id}));\n",
       "    }\n",
       "}\n",
       "\n",
       "\n",
       "mpl.figure.prototype.handle_save = function(fig, msg) {\n",
       "    var format_dropdown = fig.format_dropdown;\n",
       "    var format = format_dropdown.options[format_dropdown.selectedIndex].value;\n",
       "    fig.ondownload(fig, format);\n",
       "}\n",
       "\n",
       "\n",
       "mpl.figure.prototype.handle_resize = function(fig, msg) {\n",
       "    var size = msg['size'];\n",
       "    if (size[0] != fig.canvas.width || size[1] != fig.canvas.height) {\n",
       "        fig._resize_canvas(size[0], size[1]);\n",
       "        fig.send_message(\"refresh\", {});\n",
       "    };\n",
       "}\n",
       "\n",
       "mpl.figure.prototype.handle_rubberband = function(fig, msg) {\n",
       "    var x0 = msg['x0'] / mpl.ratio;\n",
       "    var y0 = (fig.canvas.height - msg['y0']) / mpl.ratio;\n",
       "    var x1 = msg['x1'] / mpl.ratio;\n",
       "    var y1 = (fig.canvas.height - msg['y1']) / mpl.ratio;\n",
       "    x0 = Math.floor(x0) + 0.5;\n",
       "    y0 = Math.floor(y0) + 0.5;\n",
       "    x1 = Math.floor(x1) + 0.5;\n",
       "    y1 = Math.floor(y1) + 0.5;\n",
       "    var min_x = Math.min(x0, x1);\n",
       "    var min_y = Math.min(y0, y1);\n",
       "    var width = Math.abs(x1 - x0);\n",
       "    var height = Math.abs(y1 - y0);\n",
       "\n",
       "    fig.rubberband_context.clearRect(\n",
       "        0, 0, fig.canvas.width / mpl.ratio, fig.canvas.height / mpl.ratio);\n",
       "\n",
       "    fig.rubberband_context.strokeRect(min_x, min_y, width, height);\n",
       "}\n",
       "\n",
       "mpl.figure.prototype.handle_figure_label = function(fig, msg) {\n",
       "    // Updates the figure title.\n",
       "    fig.header.textContent = msg['label'];\n",
       "}\n",
       "\n",
       "mpl.figure.prototype.handle_cursor = function(fig, msg) {\n",
       "    var cursor = msg['cursor'];\n",
       "    switch(cursor)\n",
       "    {\n",
       "    case 0:\n",
       "        cursor = 'pointer';\n",
       "        break;\n",
       "    case 1:\n",
       "        cursor = 'default';\n",
       "        break;\n",
       "    case 2:\n",
       "        cursor = 'crosshair';\n",
       "        break;\n",
       "    case 3:\n",
       "        cursor = 'move';\n",
       "        break;\n",
       "    }\n",
       "    fig.rubberband_canvas.style.cursor = cursor;\n",
       "}\n",
       "\n",
       "mpl.figure.prototype.handle_message = function(fig, msg) {\n",
       "    fig.message.textContent = msg['message'];\n",
       "}\n",
       "\n",
       "mpl.figure.prototype.handle_draw = function(fig, msg) {\n",
       "    // Request the server to send over a new figure.\n",
       "    fig.send_draw_message();\n",
       "}\n",
       "\n",
       "mpl.figure.prototype.handle_image_mode = function(fig, msg) {\n",
       "    fig.image_mode = msg['mode'];\n",
       "}\n",
       "\n",
       "mpl.figure.prototype.updated_canvas_event = function() {\n",
       "    // Called whenever the canvas gets updated.\n",
       "    this.send_message(\"ack\", {});\n",
       "}\n",
       "\n",
       "// A function to construct a web socket function for onmessage handling.\n",
       "// Called in the figure constructor.\n",
       "mpl.figure.prototype._make_on_message_function = function(fig) {\n",
       "    return function socket_on_message(evt) {\n",
       "        if (evt.data instanceof Blob) {\n",
       "            /* FIXME: We get \"Resource interpreted as Image but\n",
       "             * transferred with MIME type text/plain:\" errors on\n",
       "             * Chrome.  But how to set the MIME type?  It doesn't seem\n",
       "             * to be part of the websocket stream */\n",
       "            evt.data.type = \"image/png\";\n",
       "\n",
       "            /* Free the memory for the previous frames */\n",
       "            if (fig.imageObj.src) {\n",
       "                (window.URL || window.webkitURL).revokeObjectURL(\n",
       "                    fig.imageObj.src);\n",
       "            }\n",
       "\n",
       "            fig.imageObj.src = (window.URL || window.webkitURL).createObjectURL(\n",
       "                evt.data);\n",
       "            fig.updated_canvas_event();\n",
       "            fig.waiting = false;\n",
       "            return;\n",
       "        }\n",
       "        else if (typeof evt.data === 'string' && evt.data.slice(0, 21) == \"data:image/png;base64\") {\n",
       "            fig.imageObj.src = evt.data;\n",
       "            fig.updated_canvas_event();\n",
       "            fig.waiting = false;\n",
       "            return;\n",
       "        }\n",
       "\n",
       "        var msg = JSON.parse(evt.data);\n",
       "        var msg_type = msg['type'];\n",
       "\n",
       "        // Call the  \"handle_{type}\" callback, which takes\n",
       "        // the figure and JSON message as its only arguments.\n",
       "        try {\n",
       "            var callback = fig[\"handle_\" + msg_type];\n",
       "        } catch (e) {\n",
       "            console.log(\"No handler for the '\" + msg_type + \"' message type: \", msg);\n",
       "            return;\n",
       "        }\n",
       "\n",
       "        if (callback) {\n",
       "            try {\n",
       "                // console.log(\"Handling '\" + msg_type + \"' message: \", msg);\n",
       "                callback(fig, msg);\n",
       "            } catch (e) {\n",
       "                console.log(\"Exception inside the 'handler_\" + msg_type + \"' callback:\", e, e.stack, msg);\n",
       "            }\n",
       "        }\n",
       "    };\n",
       "}\n",
       "\n",
       "// from http://stackoverflow.com/questions/1114465/getting-mouse-location-in-canvas\n",
       "mpl.findpos = function(e) {\n",
       "    //this section is from http://www.quirksmode.org/js/events_properties.html\n",
       "    var targ;\n",
       "    if (!e)\n",
       "        e = window.event;\n",
       "    if (e.target)\n",
       "        targ = e.target;\n",
       "    else if (e.srcElement)\n",
       "        targ = e.srcElement;\n",
       "    if (targ.nodeType == 3) // defeat Safari bug\n",
       "        targ = targ.parentNode;\n",
       "\n",
       "    // jQuery normalizes the pageX and pageY\n",
       "    // pageX,Y are the mouse positions relative to the document\n",
       "    // offset() returns the position of the element relative to the document\n",
       "    var x = e.pageX - $(targ).offset().left;\n",
       "    var y = e.pageY - $(targ).offset().top;\n",
       "\n",
       "    return {\"x\": x, \"y\": y};\n",
       "};\n",
       "\n",
       "/*\n",
       " * return a copy of an object with only non-object keys\n",
       " * we need this to avoid circular references\n",
       " * http://stackoverflow.com/a/24161582/3208463\n",
       " */\n",
       "function simpleKeys (original) {\n",
       "  return Object.keys(original).reduce(function (obj, key) {\n",
       "    if (typeof original[key] !== 'object')\n",
       "        obj[key] = original[key]\n",
       "    return obj;\n",
       "  }, {});\n",
       "}\n",
       "\n",
       "mpl.figure.prototype.mouse_event = function(event, name) {\n",
       "    var canvas_pos = mpl.findpos(event)\n",
       "\n",
       "    if (name === 'button_press')\n",
       "    {\n",
       "        this.canvas.focus();\n",
       "        this.canvas_div.focus();\n",
       "    }\n",
       "\n",
       "    var x = canvas_pos.x * mpl.ratio;\n",
       "    var y = canvas_pos.y * mpl.ratio;\n",
       "\n",
       "    this.send_message(name, {x: x, y: y, button: event.button,\n",
       "                             step: event.step,\n",
       "                             guiEvent: simpleKeys(event)});\n",
       "\n",
       "    /* This prevents the web browser from automatically changing to\n",
       "     * the text insertion cursor when the button is pressed.  We want\n",
       "     * to control all of the cursor setting manually through the\n",
       "     * 'cursor' event from matplotlib */\n",
       "    event.preventDefault();\n",
       "    return false;\n",
       "}\n",
       "\n",
       "mpl.figure.prototype._key_event_extra = function(event, name) {\n",
       "    // Handle any extra behaviour associated with a key event\n",
       "}\n",
       "\n",
       "mpl.figure.prototype.key_event = function(event, name) {\n",
       "\n",
       "    // Prevent repeat events\n",
       "    if (name == 'key_press')\n",
       "    {\n",
       "        if (event.which === this._key)\n",
       "            return;\n",
       "        else\n",
       "            this._key = event.which;\n",
       "    }\n",
       "    if (name == 'key_release')\n",
       "        this._key = null;\n",
       "\n",
       "    var value = '';\n",
       "    if (event.ctrlKey && event.which != 17)\n",
       "        value += \"ctrl+\";\n",
       "    if (event.altKey && event.which != 18)\n",
       "        value += \"alt+\";\n",
       "    if (event.shiftKey && event.which != 16)\n",
       "        value += \"shift+\";\n",
       "\n",
       "    value += 'k';\n",
       "    value += event.which.toString();\n",
       "\n",
       "    this._key_event_extra(event, name);\n",
       "\n",
       "    this.send_message(name, {key: value,\n",
       "                             guiEvent: simpleKeys(event)});\n",
       "    return false;\n",
       "}\n",
       "\n",
       "mpl.figure.prototype.toolbar_button_onclick = function(name) {\n",
       "    if (name == 'download') {\n",
       "        this.handle_save(this, null);\n",
       "    } else {\n",
       "        this.send_message(\"toolbar_button\", {name: name});\n",
       "    }\n",
       "};\n",
       "\n",
       "mpl.figure.prototype.toolbar_button_onmouseover = function(tooltip) {\n",
       "    this.message.textContent = tooltip;\n",
       "};\n",
       "mpl.toolbar_items = [[\"Home\", \"Reset original view\", \"fa fa-home icon-home\", \"home\"], [\"Back\", \"Back to previous view\", \"fa fa-arrow-left icon-arrow-left\", \"back\"], [\"Forward\", \"Forward to next view\", \"fa fa-arrow-right icon-arrow-right\", \"forward\"], [\"\", \"\", \"\", \"\"], [\"Pan\", \"Pan axes with left mouse, zoom with right\", \"fa fa-arrows icon-move\", \"pan\"], [\"Zoom\", \"Zoom to rectangle\", \"fa fa-square-o icon-check-empty\", \"zoom\"], [\"\", \"\", \"\", \"\"], [\"Download\", \"Download plot\", \"fa fa-floppy-o icon-save\", \"download\"]];\n",
       "\n",
       "mpl.extensions = [\"eps\", \"pdf\", \"png\", \"ps\", \"raw\", \"svg\"];\n",
       "\n",
       "mpl.default_extension = \"png\";var comm_websocket_adapter = function(comm) {\n",
       "    // Create a \"websocket\"-like object which calls the given IPython comm\n",
       "    // object with the appropriate methods. Currently this is a non binary\n",
       "    // socket, so there is still some room for performance tuning.\n",
       "    var ws = {};\n",
       "\n",
       "    ws.close = function() {\n",
       "        comm.close()\n",
       "    };\n",
       "    ws.send = function(m) {\n",
       "        //console.log('sending', m);\n",
       "        comm.send(m);\n",
       "    };\n",
       "    // Register the callback with on_msg.\n",
       "    comm.on_msg(function(msg) {\n",
       "        //console.log('receiving', msg['content']['data'], msg);\n",
       "        // Pass the mpl event to the overridden (by mpl) onmessage function.\n",
       "        ws.onmessage(msg['content']['data'])\n",
       "    });\n",
       "    return ws;\n",
       "}\n",
       "\n",
       "mpl.mpl_figure_comm = function(comm, msg) {\n",
       "    // This is the function which gets called when the mpl process\n",
       "    // starts-up an IPython Comm through the \"matplotlib\" channel.\n",
       "\n",
       "    var id = msg.content.data.id;\n",
       "    // Get hold of the div created by the display call when the Comm\n",
       "    // socket was opened in Python.\n",
       "    var element = $(\"#\" + id);\n",
       "    var ws_proxy = comm_websocket_adapter(comm)\n",
       "\n",
       "    function ondownload(figure, format) {\n",
       "        window.open(figure.imageObj.src);\n",
       "    }\n",
       "\n",
       "    var fig = new mpl.figure(id, ws_proxy,\n",
       "                           ondownload,\n",
       "                           element.get(0));\n",
       "\n",
       "    // Call onopen now - mpl needs it, as it is assuming we've passed it a real\n",
       "    // web socket which is closed, not our websocket->open comm proxy.\n",
       "    ws_proxy.onopen();\n",
       "\n",
       "    fig.parent_element = element.get(0);\n",
       "    fig.cell_info = mpl.find_output_cell(\"<div id='\" + id + \"'></div>\");\n",
       "    if (!fig.cell_info) {\n",
       "        console.error(\"Failed to find cell for figure\", id, fig);\n",
       "        return;\n",
       "    }\n",
       "\n",
       "    var output_index = fig.cell_info[2]\n",
       "    var cell = fig.cell_info[0];\n",
       "\n",
       "};\n",
       "\n",
       "mpl.figure.prototype.handle_close = function(fig, msg) {\n",
       "    var width = fig.canvas.width/mpl.ratio\n",
       "    fig.root.unbind('remove')\n",
       "\n",
       "    // Update the output cell to use the data from the current canvas.\n",
       "    fig.push_to_output();\n",
       "    var dataURL = fig.canvas.toDataURL();\n",
       "    // Re-enable the keyboard manager in IPython - without this line, in FF,\n",
       "    // the notebook keyboard shortcuts fail.\n",
       "    IPython.keyboard_manager.enable()\n",
       "    $(fig.parent_element).html('<img src=\"' + dataURL + '\" width=\"' + width + '\">');\n",
       "    fig.close_ws(fig, msg);\n",
       "}\n",
       "\n",
       "mpl.figure.prototype.close_ws = function(fig, msg){\n",
       "    fig.send_message('closing', msg);\n",
       "    // fig.ws.close()\n",
       "}\n",
       "\n",
       "mpl.figure.prototype.push_to_output = function(remove_interactive) {\n",
       "    // Turn the data on the canvas into data in the output cell.\n",
       "    var width = this.canvas.width/mpl.ratio\n",
       "    var dataURL = this.canvas.toDataURL();\n",
       "    this.cell_info[1]['text/html'] = '<img src=\"' + dataURL + '\" width=\"' + width + '\">';\n",
       "}\n",
       "\n",
       "mpl.figure.prototype.updated_canvas_event = function() {\n",
       "    // Tell IPython that the notebook contents must change.\n",
       "    IPython.notebook.set_dirty(true);\n",
       "    this.send_message(\"ack\", {});\n",
       "    var fig = this;\n",
       "    // Wait a second, then push the new image to the DOM so\n",
       "    // that it is saved nicely (might be nice to debounce this).\n",
       "    setTimeout(function () { fig.push_to_output() }, 1000);\n",
       "}\n",
       "\n",
       "mpl.figure.prototype._init_toolbar = function() {\n",
       "    var fig = this;\n",
       "\n",
       "    var nav_element = $('<div/>');\n",
       "    nav_element.attr('style', 'width: 100%');\n",
       "    this.root.append(nav_element);\n",
       "\n",
       "    // Define a callback function for later on.\n",
       "    function toolbar_event(event) {\n",
       "        return fig.toolbar_button_onclick(event['data']);\n",
       "    }\n",
       "    function toolbar_mouse_event(event) {\n",
       "        return fig.toolbar_button_onmouseover(event['data']);\n",
       "    }\n",
       "\n",
       "    for(var toolbar_ind in mpl.toolbar_items){\n",
       "        var name = mpl.toolbar_items[toolbar_ind][0];\n",
       "        var tooltip = mpl.toolbar_items[toolbar_ind][1];\n",
       "        var image = mpl.toolbar_items[toolbar_ind][2];\n",
       "        var method_name = mpl.toolbar_items[toolbar_ind][3];\n",
       "\n",
       "        if (!name) { continue; };\n",
       "\n",
       "        var button = $('<button class=\"btn btn-default\" href=\"#\" title=\"' + name + '\"><i class=\"fa ' + image + ' fa-lg\"></i></button>');\n",
       "        button.click(method_name, toolbar_event);\n",
       "        button.mouseover(tooltip, toolbar_mouse_event);\n",
       "        nav_element.append(button);\n",
       "    }\n",
       "\n",
       "    // Add the status bar.\n",
       "    var status_bar = $('<span class=\"mpl-message\" style=\"text-align:right; float: right;\"/>');\n",
       "    nav_element.append(status_bar);\n",
       "    this.message = status_bar[0];\n",
       "\n",
       "    // Add the close button to the window.\n",
       "    var buttongrp = $('<div class=\"btn-group inline pull-right\"></div>');\n",
       "    var button = $('<button class=\"btn btn-mini btn-primary\" href=\"#\" title=\"Stop Interaction\"><i class=\"fa fa-power-off icon-remove icon-large\"></i></button>');\n",
       "    button.click(function (evt) { fig.handle_close(fig, {}); } );\n",
       "    button.mouseover('Stop Interaction', toolbar_mouse_event);\n",
       "    buttongrp.append(button);\n",
       "    var titlebar = this.root.find($('.ui-dialog-titlebar'));\n",
       "    titlebar.prepend(buttongrp);\n",
       "}\n",
       "\n",
       "mpl.figure.prototype._root_extra_style = function(el){\n",
       "    var fig = this\n",
       "    el.on(\"remove\", function(){\n",
       "\tfig.close_ws(fig, {});\n",
       "    });\n",
       "}\n",
       "\n",
       "mpl.figure.prototype._canvas_extra_style = function(el){\n",
       "    // this is important to make the div 'focusable\n",
       "    el.attr('tabindex', 0)\n",
       "    // reach out to IPython and tell the keyboard manager to turn it's self\n",
       "    // off when our div gets focus\n",
       "\n",
       "    // location in version 3\n",
       "    if (IPython.notebook.keyboard_manager) {\n",
       "        IPython.notebook.keyboard_manager.register_events(el);\n",
       "    }\n",
       "    else {\n",
       "        // location in version 2\n",
       "        IPython.keyboard_manager.register_events(el);\n",
       "    }\n",
       "\n",
       "}\n",
       "\n",
       "mpl.figure.prototype._key_event_extra = function(event, name) {\n",
       "    var manager = IPython.notebook.keyboard_manager;\n",
       "    if (!manager)\n",
       "        manager = IPython.keyboard_manager;\n",
       "\n",
       "    // Check for shift+enter\n",
       "    if (event.shiftKey && event.which == 13) {\n",
       "        this.canvas_div.blur();\n",
       "        // select the cell after this one\n",
       "        var index = IPython.notebook.find_cell_index(this.cell_info[0]);\n",
       "        IPython.notebook.select(index + 1);\n",
       "    }\n",
       "}\n",
       "\n",
       "mpl.figure.prototype.handle_save = function(fig, msg) {\n",
       "    fig.ondownload(fig, null);\n",
       "}\n",
       "\n",
       "\n",
       "mpl.find_output_cell = function(html_output) {\n",
       "    // Return the cell and output element which can be found *uniquely* in the notebook.\n",
       "    // Note - this is a bit hacky, but it is done because the \"notebook_saving.Notebook\"\n",
       "    // IPython event is triggered only after the cells have been serialised, which for\n",
       "    // our purposes (turning an active figure into a static one), is too late.\n",
       "    var cells = IPython.notebook.get_cells();\n",
       "    var ncells = cells.length;\n",
       "    for (var i=0; i<ncells; i++) {\n",
       "        var cell = cells[i];\n",
       "        if (cell.cell_type === 'code'){\n",
       "            for (var j=0; j<cell.output_area.outputs.length; j++) {\n",
       "                var data = cell.output_area.outputs[j];\n",
       "                if (data.data) {\n",
       "                    // IPython >= 3 moved mimebundle to data attribute of output\n",
       "                    data = data.data;\n",
       "                }\n",
       "                if (data['text/html'] == html_output) {\n",
       "                    return [cell, data, j];\n",
       "                }\n",
       "            }\n",
       "        }\n",
       "    }\n",
       "}\n",
       "\n",
       "// Register the function which deals with the matplotlib target/channel.\n",
       "// The kernel may be null if the page has been refreshed.\n",
       "if (IPython.notebook.kernel != null) {\n",
       "    IPython.notebook.kernel.comm_manager.register_target('matplotlib', mpl.mpl_figure_comm);\n",
       "}\n"
      ],
      "text/plain": [
       "<IPython.core.display.Javascript object>"
      ]
     },
     "metadata": {},
     "output_type": "display_data"
    },
    {
     "data": {
      "text/html": [
       "<img src=\"data:image/png;base64,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\" width=\"1037\">"
      ],
      "text/plain": [
       "<IPython.core.display.HTML object>"
      ]
     },
     "metadata": {},
     "output_type": "display_data"
    },
    {
     "data": {
      "text/plain": [
       "<seaborn.axisgrid.PairGrid at 0x7fb7dc7e3080>"
      ]
     },
     "execution_count": 10,
     "metadata": {},
     "output_type": "execute_result"
    }
   ],
   "source": [
    "%matplotlib notebook\n",
    "\n",
    "pairplot(x_vars='x_norm', y_vars='y_norm',\n",
    "         data=T, hue='variété', height=4)"
   ]
  },
  {
   "cell_type": "markdown",
   "metadata": {},
   "source": [
    "<span style='color:white;font-weight:bold;background-color:#F0573B;padding: 2px;font-size:20px'>b.</span> Calculer : \n",
    "<ul>\n",
    "    <li><code>xn</code> la longueur normalisée du nouvel iris</li>\n",
    "    <li><code>xn</code> sa largeur normalisée du nouvel iris</li>\n",
    "</ul>"
   ]
  },
  {
   "cell_type": "code",
   "execution_count": 11,
   "metadata": {},
   "outputs": [
    {
     "data": {
      "text/plain": [
       "(-0.9958657222207773, -0.9174741183903817)"
      ]
     },
     "execution_count": 11,
     "metadata": {},
     "output_type": "execute_result"
    }
   ],
   "source": [
    "xn, yn = norm(2,m1,s1), norm(0.5,m2,s2)\n",
    "xn , yn"
   ]
  },
  {
   "cell_type": "markdown",
   "metadata": {},
   "source": [
    "<span style='color:white;font-weight:bold;background-color:#F0573B;padding: 2px;font-size:20px'>c.</span> Pour placer dans le nuage de points précédent, le point associé au nouvel iris, exécuter le code suivant :"
   ]
  },
  {
   "cell_type": "code",
   "execution_count": 12,
   "metadata": {},
   "outputs": [
    {
     "data": {
      "text/plain": [
       "<matplotlib.collections.PathCollection at 0x7fb7dc076dd8>"
      ]
     },
     "execution_count": 12,
     "metadata": {},
     "output_type": "execute_result"
    }
   ],
   "source": [
    "pl.scatter(xn, yn, color='black')"
   ]
  },
  {
   "cell_type": "markdown",
   "metadata": {},
   "source": [
    "<span style='color:white;font-weight:bold;background-color:black;width:12px;padding: 2px;font-size:20px'>2.</span> Quelle serait la variété de ce nouvel iris ?"
   ]
  },
  {
   "cell_type": "markdown",
   "metadata": {},
   "source": [
    "<h1 style=\"color:white;background-color:black;text-align:center\"> Partie D : Prédire le nom de la variété d'un nouvel iris</h1>"
   ]
  },
  {
   "cell_type": "markdown",
   "metadata": {},
   "source": [
    "<b><u>Objectif</u></b>\n",
    "<blockquote style=\"border-left: 10px solid black;background-color:#F0573B\">\n",
    "Un nouvel iris a pour dimensions : \n",
    "    <ul>\n",
    "        <li>$2,5$ cm de longueur</li>\n",
    "        <li>$0.75$ cm de largeur </li>\n",
    "    </ul>\n",
    "    Nous souhaitons <b>prédire</b> le nom de sa variété d'iris.\n",
    "</blockquote>"
   ]
  },
  {
   "cell_type": "markdown",
   "metadata": {},
   "source": [
    "<span style='color:white;font-weight:bold;background-color:black;width:12px;padding: 2px;font-size:20px'>1.</span> Calculer : \n",
    "<ul>\n",
    "    <li><code>xn</code> la longueur normalisée du nouvel iris</li>\n",
    "    <li><code>xn</code> sa largeur normalisée du nouvel iris</li>\n",
    "</ul>"
   ]
  },
  {
   "cell_type": "code",
   "execution_count": 13,
   "metadata": {},
   "outputs": [
    {
     "data": {
      "text/plain": [
       "(-0.7126274622034914, -0.589492426878091)"
      ]
     },
     "execution_count": 13,
     "metadata": {},
     "output_type": "execute_result"
    }
   ],
   "source": [
    "xn, yn = norm(2.5,m1,s1), norm(0.75,m2,s2)\n",
    "xn, yn "
   ]
  },
  {
   "cell_type": "markdown",
   "metadata": {},
   "source": [
    "<span style='color:white;font-weight:bold;background-color:black;width:12px;padding: 2px;font-size:20px'>2.</span> Pour représenter ce nouvel iris par-dessus le nuage de points précédents, exécuter le code suivant :"
   ]
  },
  {
   "cell_type": "code",
   "execution_count": 14,
   "metadata": {},
   "outputs": [
    {
     "data": {
      "text/plain": [
       "<matplotlib.collections.PathCollection at 0x7fb7dc09d240>"
      ]
     },
     "execution_count": 14,
     "metadata": {},
     "output_type": "execute_result"
    }
   ],
   "source": [
    "pl.scatter(xn, yn, color='k', marker='x')"
   ]
  },
  {
   "cell_type": "markdown",
   "metadata": {},
   "source": [
    "<b><u>Notation</u></b>\n",
    "<blockquote style=\"border-left: 10px solid black;background-color:#F0573B\">\n",
    "On nomme le point obtenu $I($<code>xn</code>$\\,;\\,$<code>yn</code>$)$ correspondant à ce nouvel iris !\n",
    "</blockquote>"
   ]
  },
  {
   "cell_type": "markdown",
   "metadata": {},
   "source": [
    "<span style='color:white;font-weight:bold;background-color:black;width:12px;padding: 2px;font-size:20px'>3.</span> Iris les plus \"proches\""
   ]
  },
  {
   "cell_type": "markdown",
   "metadata": {},
   "source": [
    "<span style='color:white;font-weight:bold;background-color:#F0573B;padding: 2px;font-size:20px'>a.</span> A partir de <code>T</code>, on sélectionne les iris de longeur $x=3,5$ cm et de longeur $y=1$ cm."
   ]
  },
  {
   "cell_type": "code",
   "execution_count": 15,
   "metadata": {},
   "outputs": [
    {
     "data": {
      "text/html": [
       "<div>\n",
       "<style scoped>\n",
       "    .dataframe tbody tr th:only-of-type {\n",
       "        vertical-align: middle;\n",
       "    }\n",
       "\n",
       "    .dataframe tbody tr th {\n",
       "        vertical-align: top;\n",
       "    }\n",
       "\n",
       "    .dataframe thead th {\n",
       "        text-align: right;\n",
       "    }\n",
       "</style>\n",
       "<table border=\"1\" class=\"dataframe\">\n",
       "  <thead>\n",
       "    <tr style=\"text-align: right;\">\n",
       "      <th></th>\n",
       "      <th>x</th>\n",
       "      <th>y</th>\n",
       "      <th>variété</th>\n",
       "      <th>x_norm</th>\n",
       "      <th>y_norm</th>\n",
       "    </tr>\n",
       "  </thead>\n",
       "  <tbody>\n",
       "    <tr>\n",
       "      <th>60</th>\n",
       "      <td>3.5</td>\n",
       "      <td>1.0</td>\n",
       "      <td>Versicolor</td>\n",
       "      <td>-0.146151</td>\n",
       "      <td>-0.261511</td>\n",
       "    </tr>\n",
       "    <tr>\n",
       "      <th>79</th>\n",
       "      <td>3.5</td>\n",
       "      <td>1.0</td>\n",
       "      <td>Versicolor</td>\n",
       "      <td>-0.146151</td>\n",
       "      <td>-0.261511</td>\n",
       "    </tr>\n",
       "  </tbody>\n",
       "</table>\n",
       "</div>"
      ],
      "text/plain": [
       "      x    y     variété    x_norm    y_norm\n",
       "60  3.5  1.0  Versicolor -0.146151 -0.261511\n",
       "79  3.5  1.0  Versicolor -0.146151 -0.261511"
      ]
     },
     "execution_count": 15,
     "metadata": {},
     "output_type": "execute_result"
    }
   ],
   "source": [
    "T.query('x == 3.5 and y == 1')"
   ]
  },
  {
   "cell_type": "markdown",
   "metadata": {},
   "source": [
    "<span style='background-color:lightgreen;padding:10px'><b>Indication :</b> utiliser un des connecteurs <code>and</code>, <code>or</code>. </span>"
   ]
  },
  {
   "cell_type": "markdown",
   "metadata": {},
   "source": [
    "<span style='color:white;font-weight:bold;background-color:#F0573B;padding: 2px;font-size:20px'>b.</span> Citer la ou les variétés obtenues ?"
   ]
  },
  {
   "cell_type": "markdown",
   "metadata": {},
   "source": [
    "<span style='color:white;font-weight:bold;background-color:#F0573B;padding: 2px;font-size:20px'>c.</span> Calculer :\n",
    "<ul>\n",
    "    <li><code>xna</code> la longueur normalisée de $3,5$</li>\n",
    "    <li><code>yna</code> la largeur normalisée de $1$</li>\n",
    "</ul>"
   ]
  },
  {
   "cell_type": "code",
   "execution_count": 16,
   "metadata": {},
   "outputs": [
    {
     "data": {
      "text/plain": [
       "(-0.14615094216891975, -0.2615107353658002)"
      ]
     },
     "execution_count": 16,
     "metadata": {},
     "output_type": "execute_result"
    }
   ],
   "source": [
    "xna, yna = norm(3.5,m1,s1), norm(1,m2,s2)\n",
    "xna, yna "
   ]
  },
  {
   "cell_type": "markdown",
   "metadata": {},
   "source": [
    "<b><u>Notation</u></b>\n",
    "<blockquote style=\"border-left: 10px solid black;background-color:#F0573B\">\n",
    "On nomme le point obtenu $A($<code>xna</code>$\\,;\\,$<code>yna</code>$)$ correspondant à cet iris !\n",
    "</blockquote>\n",
    "\n",
    "<span style='color:white;font-weight:bold;background-color:#F0573B;padding: 2px;font-size:20px'>d.</span> Calculer \"à la main\" ou dans la cellule ci-dessous, la distance entre $I$ et $A$ :"
   ]
  },
  {
   "cell_type": "code",
   "execution_count": 17,
   "metadata": {},
   "outputs": [
    {
     "data": {
      "text/plain": [
       "0.6545743943340144"
      ]
     },
     "execution_count": 17,
     "metadata": {},
     "output_type": "execute_result"
    }
   ],
   "source": [
    "((xna-xn)**2+(yna-yn)**2)**0.5"
   ]
  },
  {
   "cell_type": "markdown",
   "metadata": {},
   "source": [
    "<span style='background-color:lightgreen;padding:10px'><b>Indication :</b> $\\sqrt{x}$ peut-être calculée avec python avec l'instruction : <code>x**0.5</code></span>"
   ]
  },
  {
   "cell_type": "markdown",
   "metadata": {},
   "source": [
    "<span style='color:white;font-weight:bold;background-color:#F0573B;padding: 2px;font-size:20px'>e.</span> Compléter la fonction nommée <code>distance</code> de paramètres : \n",
    "<ul>\n",
    "    <li><code>xa</code> et <code>ya</code> : l'abscisse et l'ordonnée d'un point $A$ <i>(dans un repère orthonormé)</i></li>\n",
    "    <li><code>xb</code> et <code>yb</code> : l'abscisse et l'ordonnée d'un point $B$ <i>(dans un repère orthonormé)</i></li>\n",
    "</ul>\n",
    "Elle renvoie la distance entre $A$ et $B$."
   ]
  },
  {
   "cell_type": "code",
   "execution_count": 18,
   "metadata": {},
   "outputs": [],
   "source": [
    "def distance(xa,ya,xb,yb):\n",
    "    d = (xa - xb)**2 + (ya - yb)**2\n",
    "    return d**0.5"
   ]
  },
  {
   "cell_type": "markdown",
   "metadata": {},
   "source": [
    "<span style='background-color:lightgreen;padding:10px'><b>Indication :</b> $\\sqrt{x}$ peut-être calculée avec python avec l'instruction : <code>x**0.5</code></span>"
   ]
  },
  {
   "cell_type": "markdown",
   "metadata": {},
   "source": [
    "<span style='color:white;font-weight:bold;background-color:#F0573B;padding: 2px;font-size:20px'>f.</span> Pour appliquer la distance de $I$ à chaque point du nuage, exécuter :"
   ]
  },
  {
   "cell_type": "code",
   "execution_count": 19,
   "metadata": {},
   "outputs": [
    {
     "data": {
      "text/plain": [
       "0      0.953379\n",
       "1      0.953379\n",
       "2      0.991332\n",
       "3      0.917357\n",
       "4      0.953379\n",
       "         ...   \n",
       "145    2.544484\n",
       "146    2.069256\n",
       "147    2.242460\n",
       "148    2.614154\n",
       "149    2.016637\n",
       "Length: 150, dtype: float64"
      ]
     },
     "execution_count": 19,
     "metadata": {},
     "output_type": "execute_result"
    }
   ],
   "source": [
    "distance(xn,yn,T['x_norm'],T['y_norm'])"
   ]
  },
  {
   "cell_type": "markdown",
   "metadata": {},
   "source": [
    "<span style='color:white;font-weight:bold;background-color:#F0573B;padding: 2px;font-size:20px'>g.</span> On ajoute à <code>T</code> cette colonne sous le nom <code>'d'</code>, exécuter :"
   ]
  },
  {
   "cell_type": "code",
   "execution_count": 20,
   "metadata": {},
   "outputs": [
    {
     "data": {
      "text/html": [
       "<div>\n",
       "<style scoped>\n",
       "    .dataframe tbody tr th:only-of-type {\n",
       "        vertical-align: middle;\n",
       "    }\n",
       "\n",
       "    .dataframe tbody tr th {\n",
       "        vertical-align: top;\n",
       "    }\n",
       "\n",
       "    .dataframe thead th {\n",
       "        text-align: right;\n",
       "    }\n",
       "</style>\n",
       "<table border=\"1\" class=\"dataframe\">\n",
       "  <thead>\n",
       "    <tr style=\"text-align: right;\">\n",
       "      <th></th>\n",
       "      <th>x</th>\n",
       "      <th>y</th>\n",
       "      <th>variété</th>\n",
       "      <th>x_norm</th>\n",
       "      <th>y_norm</th>\n",
       "      <th>d</th>\n",
       "    </tr>\n",
       "  </thead>\n",
       "  <tbody>\n",
       "    <tr>\n",
       "      <th>0</th>\n",
       "      <td>1.4</td>\n",
       "      <td>0.2</td>\n",
       "      <td>Setosa</td>\n",
       "      <td>-1.335752</td>\n",
       "      <td>-1.311052</td>\n",
       "      <td>0.953379</td>\n",
       "    </tr>\n",
       "    <tr>\n",
       "      <th>1</th>\n",
       "      <td>1.4</td>\n",
       "      <td>0.2</td>\n",
       "      <td>Setosa</td>\n",
       "      <td>-1.335752</td>\n",
       "      <td>-1.311052</td>\n",
       "      <td>0.953379</td>\n",
       "    </tr>\n",
       "    <tr>\n",
       "      <th>2</th>\n",
       "      <td>1.3</td>\n",
       "      <td>0.2</td>\n",
       "      <td>Setosa</td>\n",
       "      <td>-1.392399</td>\n",
       "      <td>-1.311052</td>\n",
       "      <td>0.991332</td>\n",
       "    </tr>\n",
       "    <tr>\n",
       "      <th>3</th>\n",
       "      <td>1.5</td>\n",
       "      <td>0.2</td>\n",
       "      <td>Setosa</td>\n",
       "      <td>-1.279104</td>\n",
       "      <td>-1.311052</td>\n",
       "      <td>0.917357</td>\n",
       "    </tr>\n",
       "    <tr>\n",
       "      <th>4</th>\n",
       "      <td>1.4</td>\n",
       "      <td>0.2</td>\n",
       "      <td>Setosa</td>\n",
       "      <td>-1.335752</td>\n",
       "      <td>-1.311052</td>\n",
       "      <td>0.953379</td>\n",
       "    </tr>\n",
       "  </tbody>\n",
       "</table>\n",
       "</div>"
      ],
      "text/plain": [
       "     x    y variété    x_norm    y_norm         d\n",
       "0  1.4  0.2  Setosa -1.335752 -1.311052  0.953379\n",
       "1  1.4  0.2  Setosa -1.335752 -1.311052  0.953379\n",
       "2  1.3  0.2  Setosa -1.392399 -1.311052  0.991332\n",
       "3  1.5  0.2  Setosa -1.279104 -1.311052  0.917357\n",
       "4  1.4  0.2  Setosa -1.335752 -1.311052  0.953379"
      ]
     },
     "execution_count": 20,
     "metadata": {},
     "output_type": "execute_result"
    }
   ],
   "source": [
    "T['d'] = distance(xn,yn,T['x_norm'],T['y_norm'])\n",
    "T.head()"
   ]
  },
  {
   "cell_type": "markdown",
   "metadata": {},
   "source": [
    "<span style='color:white;font-weight:bold;background-color:#F0573B;padding: 2px;font-size:20px'>h.</span> Pour trier la table <code>T</code> en rangeant par ordre croissant les valeurs de <code>'d'</code>, exécuter : "
   ]
  },
  {
   "cell_type": "code",
   "execution_count": 21,
   "metadata": {},
   "outputs": [
    {
     "data": {
      "text/html": [
       "<div>\n",
       "<style scoped>\n",
       "    .dataframe tbody tr th:only-of-type {\n",
       "        vertical-align: middle;\n",
       "    }\n",
       "\n",
       "    .dataframe tbody tr th {\n",
       "        vertical-align: top;\n",
       "    }\n",
       "\n",
       "    .dataframe thead th {\n",
       "        text-align: right;\n",
       "    }\n",
       "</style>\n",
       "<table border=\"1\" class=\"dataframe\">\n",
       "  <thead>\n",
       "    <tr style=\"text-align: right;\">\n",
       "      <th></th>\n",
       "      <th>x</th>\n",
       "      <th>y</th>\n",
       "      <th>variété</th>\n",
       "      <th>x_norm</th>\n",
       "      <th>y_norm</th>\n",
       "      <th>d</th>\n",
       "    </tr>\n",
       "  </thead>\n",
       "  <tbody>\n",
       "    <tr>\n",
       "      <th>98</th>\n",
       "      <td>3.0</td>\n",
       "      <td>1.1</td>\n",
       "      <td>Versicolor</td>\n",
       "      <td>-0.429389</td>\n",
       "      <td>-0.130318</td>\n",
       "      <td>0.539504</td>\n",
       "    </tr>\n",
       "    <tr>\n",
       "      <th>43</th>\n",
       "      <td>1.6</td>\n",
       "      <td>0.6</td>\n",
       "      <td>Setosa</td>\n",
       "      <td>-1.222456</td>\n",
       "      <td>-0.786281</td>\n",
       "      <td>0.546490</td>\n",
       "    </tr>\n",
       "    <tr>\n",
       "      <th>57</th>\n",
       "      <td>3.3</td>\n",
       "      <td>1.0</td>\n",
       "      <td>Versicolor</td>\n",
       "      <td>-0.259446</td>\n",
       "      <td>-0.261511</td>\n",
       "      <td>0.559415</td>\n",
       "    </tr>\n",
       "    <tr>\n",
       "      <th>93</th>\n",
       "      <td>3.3</td>\n",
       "      <td>1.0</td>\n",
       "      <td>Versicolor</td>\n",
       "      <td>-0.259446</td>\n",
       "      <td>-0.261511</td>\n",
       "      <td>0.559415</td>\n",
       "    </tr>\n",
       "    <tr>\n",
       "      <th>23</th>\n",
       "      <td>1.7</td>\n",
       "      <td>0.5</td>\n",
       "      <td>Setosa</td>\n",
       "      <td>-1.165809</td>\n",
       "      <td>-0.917474</td>\n",
       "      <td>0.559415</td>\n",
       "    </tr>\n",
       "  </tbody>\n",
       "</table>\n",
       "</div>"
      ],
      "text/plain": [
       "      x    y     variété    x_norm    y_norm         d\n",
       "98  3.0  1.1  Versicolor -0.429389 -0.130318  0.539504\n",
       "43  1.6  0.6      Setosa -1.222456 -0.786281  0.546490\n",
       "57  3.3  1.0  Versicolor -0.259446 -0.261511  0.559415\n",
       "93  3.3  1.0  Versicolor -0.259446 -0.261511  0.559415\n",
       "23  1.7  0.5      Setosa -1.165809 -0.917474  0.559415"
      ]
     },
     "execution_count": 21,
     "metadata": {},
     "output_type": "execute_result"
    }
   ],
   "source": [
    "T.sort_values('d').head(5)"
   ]
  },
  {
   "cell_type": "markdown",
   "metadata": {},
   "source": [
    "<span style='background-color:lightgreen;padding:10px'><b>Indication :</b> <code>sort_values(col)</code> trie par ordre croissant une table selon une colonne <b>col</b></span>"
   ]
  },
  {
   "cell_type": "markdown",
   "metadata": {},
   "source": [
    "<span style='color:white;font-weight:bold;background-color:black;width:12px;padding: 2px;font-size:20px'>2.</span> Quelle serait la variété de nouvel iris ?"
   ]
  },
  {
   "cell_type": "markdown",
   "metadata": {},
   "source": [
    "<h1 style=\"color:white;background-color:black;text-align:center\"> Partie E : nouvelle prédiction</h1>"
   ]
  },
  {
   "cell_type": "markdown",
   "metadata": {},
   "source": [
    "<b><u>Objectif</u></b>\n",
    "<blockquote style=\"border-left: 10px solid black;background-color:#F0573B\">\n",
    "Un nouvel iris a pour dimensions : \n",
    "    <ul>\n",
    "        <li>$4,7$ cm de longueur</li>\n",
    "        <li>$1,7$ cm de largeur </li>\n",
    "    </ul>\n",
    "    Nous souhaitons <b>prédire</b> le nom de sa variété d'iris.\n",
    "</blockquote>"
   ]
  },
  {
   "cell_type": "markdown",
   "metadata": {},
   "source": [
    "<span style='color:white;font-weight:bold;background-color:black;width:12px;padding: 2px;font-size:20px'>1.</span> En réutilisant ce qui précède, prédire la variété de cet iris."
   ]
  },
  {
   "cell_type": "markdown",
   "metadata": {},
   "source": [
    "<b><u>Objectif</u></b>\n",
    "<blockquote style=\"border-left: 10px solid black;background-color:#F0573B\">\n",
    "    Nous souhaitons <b>automatiser</b> la <b>prédiction</b> du nom de la variété d'iris cherché.\n",
    "</blockquote>"
   ]
  },
  {
   "cell_type": "markdown",
   "metadata": {},
   "source": [
    "<span style='color:white;font-weight:bold;background-color:black;width:12px;padding: 2px;font-size:20px'>2.</span> Compléter la fonction nommée <code>nom</code> de paramètre <code>col</code> <i>(la colonne d'une table contenant des noms d'espèces d'iris)</i>.\n",
    "<br> Elle renvoie le nom de la variété d'iris la plus citée."
   ]
  },
  {
   "cell_type": "code",
   "execution_count": 22,
   "metadata": {},
   "outputs": [],
   "source": [
    "def nom(col):\n",
    "    Ver, Vir, Set = 0, 0, 0\n",
    "    for x in col:\n",
    "        if x == 'Versicolor':\n",
    "            Ver = Ver + 1\n",
    "        elif x == 'Virginica':\n",
    "            Vir = Vir + 1\n",
    "        elif x == 'Setosa':\n",
    "            Set = Set + 1 \n",
    "    if Ver == max(Ver,Vir,Set):\n",
    "        return 'Versicolor'\n",
    "    elif Vir == max(Ver,Vir,Set):\n",
    "        return 'Virginica'\n",
    "    elif Set == max(Ver,Vir,Set):\n",
    "        return 'Setosa'"
   ]
  },
  {
   "cell_type": "markdown",
   "metadata": {},
   "source": [
    "<span style='color:white;font-weight:bold;background-color:black;width:12px;padding: 2px;font-size:20px'>3.</span> Compléter la fonction nommée <code>prediction</code> de paramètres :\n",
    "<ul>\n",
    "    <li><code>x</code> : la longueur d'un nouvel iris <i>(que l'on souhaite prédire le nom variété d'iris</i>)</li>\n",
    "    <li><code>y</code> : sa largeur </li>\n",
    "</ul>\n",
    "<br> Elle renvoie le nom de sa variété d'iris."
   ]
  },
  {
   "cell_type": "code",
   "execution_count": 23,
   "metadata": {},
   "outputs": [],
   "source": [
    "def prediction(x,y):\n",
    "    xn, yn = norm(x,m1,s1), norm(y,m2,s2)\n",
    "    T['d'] = distance(xn,yn,T['x_norm'],T['y_norm'])\n",
    "    T1 = T.sort_values('d').head(5)\n",
    "    return nom(T1['variété'])"
   ]
  },
  {
   "cell_type": "markdown",
   "metadata": {},
   "source": [
    "<span style='color:white;font-weight:bold;background-color:black;width:12px;padding: 2px;font-size:20px'>4.</span> Tester la fonction <code>prediction</code> pour un iris de longueur $5$ cm et de largeur $1,4$ cm."
   ]
  },
  {
   "cell_type": "code",
   "execution_count": 24,
   "metadata": {},
   "outputs": [
    {
     "data": {
      "text/plain": [
       "'Versicolor'"
      ]
     },
     "execution_count": 24,
     "metadata": {},
     "output_type": "execute_result"
    }
   ],
   "source": [
    "prediction(5,1.4)"
   ]
  },
  {
   "cell_type": "code",
   "execution_count": 25,
   "metadata": {},
   "outputs": [
    {
     "data": {
      "text/plain": [
       "'Virginica'"
      ]
     },
     "execution_count": 25,
     "metadata": {},
     "output_type": "execute_result"
    }
   ],
   "source": [
    "prediction(4.7,1.7)"
   ]
  },
  {
   "cell_type": "code",
   "execution_count": null,
   "metadata": {},
   "outputs": [],
   "source": []
  }
 ],
 "metadata": {
  "kernelspec": {
   "display_name": "Python 3",
   "language": "python",
   "name": "python3"
  },
  "language_info": {
   "codemirror_mode": {
    "name": "ipython",
    "version": 3
   },
   "file_extension": ".py",
   "mimetype": "text/x-python",
   "name": "python",
   "nbconvert_exporter": "python",
   "pygments_lexer": "ipython3",
   "version": "3.7.6"
  }
 },
 "nbformat": 4,
 "nbformat_minor": 2
}
