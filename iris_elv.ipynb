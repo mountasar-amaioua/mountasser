{
 "cells": [
  {
   "cell_type": "markdown",
   "metadata": {},
   "source": [
    "<div id=\"titre\">\n",
    "<h1 style=\"color:white;\n",
    "  font-family:Comic Sans MS;\n",
    "  font-size:3em;\n",
    "  background-color:#F0573B;\n",
    "  text-align:center;\n",
    "  padding:10px\">Par Osiris et par Apis, tu fais maintenant du machine learning </h1>\n",
    "<div style=\"font-family:Comic Sans MS; background-color:black;box-shadow: 8px 8px 0px #aaa; text-align:center; width: 50%; color:white\">TP  - Statitique</div>\n",
    "</div>"
   ]
  },
  {
   "cell_type": "markdown",
   "metadata": {},
   "source": [
    "En 1936, le biologiste américain <b>Edgar Anderson</b> a collecté les données sur 3 espèces d'iris :\n",
    "<table style=\"border-width:10px;border-style:solid;border-color:white;border-collapse:collapse;\" width=\"700\">\n",
    "   <tr style=\"border:2px solid black;\">\n",
    "       <td style=\"border:2px solid black;text-align:center;border-color:white\"><img src=iris_setosa.jpeg width='200'></td>\n",
    "       <td style=\"border:2px solid black;text-align:center;border-color:white\"><img src=iris_versicolor.jpeg width='200'></td>\n",
    "       <td style=\"border:2px solid black;text-align:center;border-color:white\"><img src=iris_virginica.jpeg width='200'></td>\n",
    "   </tr>\n",
    "    <tr style=\"border:2px solid black;\">\n",
    "        <td style=\"border:2px solid black;text-align:center;border-color:white\"><b>Setosa</b></td>\n",
    "        <td style=\"border:2px solid black;text-align:center;border-color:white\"><b>Versicolor</b></td>\n",
    "        <td style=\"border:2px solid black;text-align:center;border-color:white\"><b>Virginica</b></td>\n",
    "   </tr>\n",
    "</table>\n",
    "Pour chaque iris étudié, Anderson a mesuré (en cm) ses dimensions. \n",
    "\n",
    "Chaque ligne du fichier <code>'iris.csv'</code> correspond aux résultats d'un iris :\n",
    "<ul>\n",
    "    <li><code>x</code> : longueur de son pétale</li>\n",
    "    <li><code>y</code> : largeur de son pétale</li>\n",
    "    <li><code>variété</code> : nom de sa variété</li>\n",
    "</ul>\n",
    "<br>\n",
    "<b><u>Objectifs</u></b>\n",
    "<blockquote style=\"border-left: 10px solid black;background-color:#F0573B\">\n",
    "    <ul>\n",
    "        <li>Etudier ce jeu de données et apprendre à la machine à reconnaître des iris <b>Setosa</b>, <b>Versicolor</b> et <b>Virginica</b>.\n",
    "        </li>\n",
    "        <li>Prédire la variété d'un nouvel iris à partir de ses dimensions en recherchant ses voisins les plus proches ! \n",
    "            <span style='color:red;background-color:orange'><b>Bienvenue dans le monde du machine learning et de l'intelligence artificielle !</b></span>\n",
    "        </li>\n",
    "    </ul>\n",
    "</blockquote>"
   ]
  },
  {
   "cell_type": "markdown",
   "metadata": {},
   "source": [
    "<h1 style=\"color:white;background-color:black;text-align:center\"> Partie A : ouverture avec Python</h1>"
   ]
  },
  {
   "cell_type": "code",
   "execution_count": null,
   "metadata": {},
   "outputs": [],
   "source": [
    "import pandas\n",
    "import pylab as pl\n",
    "pl.style.use('bmh')\n",
    "\n",
    "from seaborn import boxplot, pairplot\n",
    "\n",
    "T = pandas.read_csv('iris_elv.csv')\n",
    "T.head()"
   ]
  },
  {
   "cell_type": "markdown",
   "metadata": {},
   "source": [
    "<h1 style=\"color:white;background-color:black;text-align:center\"> Partie B : Comparaisons puis normalisation des variables statistiques<code>x</code> et <code>y</code></h1>"
   ]
  },
  {
   "cell_type": "markdown",
   "metadata": {},
   "source": [
    "<span style='color:white;font-weight:bold;background-color:black;width:12px;padding: 2px;font-size:20px'>1.</span> Moyennes et écarts-types"
   ]
  },
  {
   "cell_type": "markdown",
   "metadata": {},
   "source": [
    "<span style='color:white;font-weight:bold;background-color:#F0573B;padding: 2px;font-size:20px'>a.</span> Pour calculer la moyenne et l'écart-type de <code>'x'</code>, exécuter :"
   ]
  },
  {
   "cell_type": "code",
   "execution_count": null,
   "metadata": {},
   "outputs": [],
   "source": [
    "m1 = T['x'].mean()\n",
    "s1 = T['x'].std()\n",
    "m1 , s1"
   ]
  },
  {
   "cell_type": "markdown",
   "metadata": {},
   "source": [
    "<span style='color:white;font-weight:bold;background-color:#F0573B;padding: 2px;font-size:20px'>b.</span> Calculer la moyenne et l'écart-type de <code>'y'</code>"
   ]
  },
  {
   "cell_type": "code",
   "execution_count": null,
   "metadata": {},
   "outputs": [],
   "source": [
    "m2 = .................\n",
    "s2 = .................\n",
    "m2 , s2"
   ]
  },
  {
   "cell_type": "markdown",
   "metadata": {},
   "source": [
    "<span style='color:white;font-weight:bold;background-color:black;width:12px;padding: 2px;font-size:20px'>2.</span> Normalisation des colonnes"
   ]
  },
  {
   "cell_type": "markdown",
   "metadata": {},
   "source": [
    "<b><u>Définitions</u></b>\n",
    "<blockquote style=\"border-left: 10px solid black;background-color:#F0573B\">\n",
    "    <ul>\n",
    "        <li>Soit $x$ la longueur d'un iris.\n",
    "            <br>Sa valeur <b>normalisée</b> par rapport aux autres longueurs de <code>'x'</code> est : $$\\boxed{\\dfrac{x - m1}{s1}}.$$\n",
    "            <i style='color:yellow'>C'est l'écart à la moyenne $m1$ compté en écart-type $s1$.</i>\n",
    "        </li>\n",
    "        <br>\n",
    "        <li>Soit $y$ la largeur d'un iris.\n",
    "            <br>Sa valeur <b>normalisée</b> par rapport aux autres largeurs de <code>'y'</code> est : $$\\boxed{\\dfrac{y - m2}{s2}}.$$\n",
    "            <i style='color:yellow'>C'est l'écart à la moyenne $m2$ compté en écart-type $s2$</i>.\n",
    "        </li>\n",
    "    </ul>\n",
    "</blockquote>"
   ]
  },
  {
   "cell_type": "markdown",
   "metadata": {},
   "source": [
    "<span style='color:white;font-weight:bold;background-color:#F0573B;padding: 2px;font-size:20px'>a.</span> Calculer la valeur normalisée de $1,4$ par rapport à <code>x</code> :"
   ]
  },
  {
   "cell_type": "code",
   "execution_count": null,
   "metadata": {},
   "outputs": [],
   "source": []
  },
  {
   "cell_type": "markdown",
   "metadata": {},
   "source": [
    "<span style='color:white;font-weight:bold;background-color:#F0573B;padding: 2px;font-size:20px'>b.</span> Soit la fonction nommée <code>norm</code> de paramètres :\n",
    "<ul>\n",
    "    <li><code>valeur</code> <i>(une valeur)</i></li>\n",
    "    <li><code>moy</code> <i>(la moyenne des valeurs de la série statistique)</i></li>\n",
    "    <li><code>sig</code> <i>(l'écart-type des valeurs de la série statistique)</i></li>\n",
    "</ul>\n",
    "Elle renvoie sa valeur normalisée par rapport à une colonne de moyenne <code>moy</code> et d'écart-type <code>sig</code>.\n",
    "<br> Compléter les pointillés de cette fonction."
   ]
  },
  {
   "cell_type": "code",
   "execution_count": null,
   "metadata": {},
   "outputs": [],
   "source": [
    "def norm(valeur,moy,sig):\n",
    "    return ......................"
   ]
  },
  {
   "cell_type": "markdown",
   "metadata": {},
   "source": [
    "<span style='color:white;font-weight:bold;background-color:#F0573B;padding: 2px;font-size:20px'>c.</span> Pour normaliser chaque valeur de <code>'x'</code>, exécuter :"
   ]
  },
  {
   "cell_type": "code",
   "execution_count": null,
   "metadata": {},
   "outputs": [],
   "source": [
    "norm(T['x'],m1,s1)"
   ]
  },
  {
   "cell_type": "markdown",
   "metadata": {},
   "source": [
    "<span style='color:white;font-weight:bold;background-color:#F0573B;padding: 2px;font-size:20px'>d.</span> Compléter les instructions suivantes pour obtenir les valeurs normalisées de <code>'x'</code> dans une nouvelle colonne de <code>T</code> nommée <code>x_norm</code>.\n",
    "<br> Faire de même pour <code>'y'</code>."
   ]
  },
  {
   "cell_type": "code",
   "execution_count": null,
   "metadata": {},
   "outputs": [],
   "source": [
    "T['x_norm'] = norm(T['x'],m1,s1)\n",
    "T['y_norm'] = norm(T['.....'],.....,s2)\n",
    "T.head()"
   ]
  },
  {
   "cell_type": "markdown",
   "metadata": {},
   "source": [
    "<span style='color:white;font-weight:bold;background-color:#F0573B;padding: 2px;font-size:20px'>e.</span> Exécuter le code suivant qui permet de représenter les boîtes à moustaches de <code>'x'</code>, <code>'x_norm'</code>, <code>'y'</code> et <code>'y_norm'</code>."
   ]
  },
  {
   "cell_type": "code",
   "execution_count": null,
   "metadata": {
    "scrolled": true
   },
   "outputs": [],
   "source": [
    "boxplot(data=T,whis='range', order=['x','x_norm','y','y_norm'])"
   ]
  },
  {
   "cell_type": "markdown",
   "metadata": {},
   "source": [
    "<ol>\n",
    "    <li> Les valeurs de <code>'x'</code> et celles de <code>'y'</code> se répartissent-elles de la même façon ? <i>(oui ou non)</i></li>\n",
    "    <li> Les valeurs de <code>'x_norm'</code> et celles de <code>'y_norm'</code> se répartissent-elles de la même façon ? <i>(oui ou non)</i></li>\n",
    "    <li> Dans quel intervalle se répartissent les valeurs normalisées de <code>'x'</code> et de <code>'y'</code> ? </li>\n",
    "</ol>"
   ]
  },
  {
   "cell_type": "markdown",
   "metadata": {},
   "source": [
    "<span style='color:white;font-weight:bold;background-color:#F0573B;padding: 2px;font-size:20px'>f.</span> En exécutant le code suivant, que devient la moyenne et l'écart-type de valeurs normalisées ?  "
   ]
  },
  {
   "cell_type": "code",
   "execution_count": null,
   "metadata": {},
   "outputs": [],
   "source": [
    "T.describe().query('index in [\"mean\",\"std\"]')"
   ]
  },
  {
   "cell_type": "markdown",
   "metadata": {},
   "source": [
    "<h1 style=\"color:white;background-color:black;text-align:center\"> Partie C : Prédire l'espèce d'un nouvel iris</h1>"
   ]
  },
  {
   "cell_type": "markdown",
   "metadata": {},
   "source": [
    "<b><u>Objectif</u></b>\n",
    "<blockquote style=\"border-left: 10px solid black;background-color:#F0573B\">\n",
    "Un nouvel iris a pour dimensions : \n",
    "    <ul>\n",
    "        <li>$2$ cm de longueur</li>\n",
    "        <li>$0.5$ cm de largeur </li>\n",
    "    </ul>\n",
    "     Nous souhaitons <b>prédire</b> le nom de sa variété d'iris.\n",
    "</blockquote>"
   ]
  },
  {
   "cell_type": "markdown",
   "metadata": {},
   "source": [
    "<span style='color:white;font-weight:bold;background-color:black;width:12px;padding: 2px;font-size:20px'>1.</span> Nuage de points des iris"
   ]
  },
  {
   "cell_type": "markdown",
   "metadata": {},
   "source": [
    "<span style='color:white;font-weight:bold;background-color:#F0573B;padding: 2px;font-size:20px'>a.</span> Pour chaque iris, on représente sa <b>largeur normalisée</b> en fonction de sa </b>longueur normalisée</b>, <b>selon sa variété</b>. \n",
    "<br> Exécuter le code suivant."
   ]
  },
  {
   "cell_type": "code",
   "execution_count": null,
   "metadata": {},
   "outputs": [],
   "source": [
    "%matplotlib notebook\n",
    "\n",
    "pairplot(x_vars='x_norm', y_vars='y_norm',\n",
    "         data=T, hue='variété', height=4)"
   ]
  },
  {
   "cell_type": "markdown",
   "metadata": {},
   "source": [
    "<span style='color:white;font-weight:bold;background-color:#F0573B;padding: 2px;font-size:20px'>b.</span> Calculer : \n",
    "<ul>\n",
    "    <li><code>xn</code> la longueur normalisée du nouvel iris</li>\n",
    "    <li><code>xn</code> sa largeur normalisée du nouvel iris</li>\n",
    "</ul>"
   ]
  },
  {
   "cell_type": "code",
   "execution_count": null,
   "metadata": {},
   "outputs": [],
   "source": [
    "xn, yn = norm(2,m1,s1), norm(......,.....,......)\n",
    "xn , yn"
   ]
  },
  {
   "cell_type": "markdown",
   "metadata": {},
   "source": [
    "<span style='color:white;font-weight:bold;background-color:#F0573B;padding: 2px;font-size:20px'>c.</span> Pour placer dans le nuage de points précédent, le point associé au nouvel iris, exécuter le code suivant :"
   ]
  },
  {
   "cell_type": "code",
   "execution_count": null,
   "metadata": {},
   "outputs": [],
   "source": [
    "pl.scatter(xn, yn, color='black')"
   ]
  },
  {
   "cell_type": "markdown",
   "metadata": {},
   "source": [
    "<span style='color:white;font-weight:bold;background-color:black;width:12px;padding: 2px;font-size:20px'>2.</span>  Quelle serait la variété de ce nouvel iris ?"
   ]
  },
  {
   "cell_type": "markdown",
   "metadata": {},
   "source": [
    "<h1 style=\"color:white;background-color:black;text-align:center\"> Partie D : Prédire l'espèce d'un nouvel iris</h1>"
   ]
  },
  {
   "cell_type": "markdown",
   "metadata": {},
   "source": [
    "<b><u>Objectif</u></b>\n",
    "<blockquote style=\"border-left: 10px solid black;background-color:#F0573B\">\n",
    "Un nouvel iris a pour dimensions : \n",
    "    <ul>\n",
    "        <li>$2,5$ cm de longueur</li>\n",
    "        <li>$0.75$ cm de largeur </li>\n",
    "    </ul>\n",
    "     Nous souhaitons <b>prédire</b> le nom de sa variété d'iris.\n",
    "</blockquote>"
   ]
  },
  {
   "cell_type": "markdown",
   "metadata": {},
   "source": [
    "<span style='color:white;font-weight:bold;background-color:black;width:12px;padding: 2px;font-size:20px'>1.</span> Calculer : \n",
    "<ul>\n",
    "    <li><code>xn</code> la longueur normalisée du nouvel iris</li>\n",
    "    <li><code>xn</code> sa largeur normalisée du nouvel iris</li>\n",
    "</ul>"
   ]
  },
  {
   "cell_type": "code",
   "execution_count": null,
   "metadata": {},
   "outputs": [],
   "source": [
    "xn, yn = ....................................\n",
    "xn, yn "
   ]
  },
  {
   "cell_type": "markdown",
   "metadata": {},
   "source": [
    "<span style='color:white;font-weight:bold;background-color:black;width:12px;padding: 2px;font-size:20px'>2.</span> Pour représenter ce nouvel iris par-dessus le nuage de points précédents, exécuter le code suivant :"
   ]
  },
  {
   "cell_type": "code",
   "execution_count": null,
   "metadata": {},
   "outputs": [],
   "source": [
    "pl.scatter(xn, yn, color='k', marker='x')"
   ]
  },
  {
   "cell_type": "markdown",
   "metadata": {},
   "source": [
    "<b><u>Notation</u></b>\n",
    "<blockquote style=\"border-left: 10px solid black;background-color:#F0573B\">\n",
    "On nomme le point obtenu $I($<code>xn</code>$\\,;\\,$<code>yn</code>$)$ correspondant à ce nouvel iris !\n",
    "</blockquote>"
   ]
  },
  {
   "cell_type": "markdown",
   "metadata": {},
   "source": [
    "<span style='color:white;font-weight:bold;background-color:black;width:12px;padding: 2px;font-size:20px'>3.</span> Iris les plus \"proches\""
   ]
  },
  {
   "cell_type": "markdown",
   "metadata": {},
   "source": [
    "<span style='color:white;font-weight:bold;background-color:#F0573B;padding: 2px;font-size:20px'>a.</span> A partir de <code>T</code>, on sélectionne les iris de longeur $x=3,5$ cm et de largeur $y=1$ cm.<br> Compléter puis exécuter le code suivant :"
   ]
  },
  {
   "cell_type": "code",
   "execution_count": null,
   "metadata": {},
   "outputs": [],
   "source": [
    "T.query('x == 3.5 ..... y == .....')"
   ]
  },
  {
   "cell_type": "markdown",
   "metadata": {},
   "source": [
    "<span style='background-color:lightgreen;padding:10px'><b>Indication :</b> utiliser un des connecteurs <code>and</code>, <code>or</code>. </span>"
   ]
  },
  {
   "cell_type": "markdown",
   "metadata": {},
   "source": [
    "<span style='color:white;font-weight:bold;background-color:#F0573B;padding: 2px;font-size:20px'>b.</span> Citer la ou les variétés obtenues ?"
   ]
  },
  {
   "cell_type": "markdown",
   "metadata": {},
   "source": [
    "<span style='color:white;font-weight:bold;background-color:#F0573B;padding: 2px;font-size:20px'>c.</span> Calculer :\n",
    "<ul>\n",
    "    <li><code>xna</code> la longueur normalisée de $3,5$</li>\n",
    "    <li><code>yna</code> la largeur normalisée de $1$</li>\n",
    "</ul>"
   ]
  },
  {
   "cell_type": "code",
   "execution_count": null,
   "metadata": {},
   "outputs": [],
   "source": [
    "xna, yna = ...................................\n",
    "xna, yna "
   ]
  },
  {
   "cell_type": "markdown",
   "metadata": {},
   "source": [
    "<b><u>Notation</u></b>\n",
    "<blockquote style=\"border-left: 10px solid black;background-color:#F0573B\">\n",
    "On nomme le point obtenu $A($<code>xna</code>$\\,;\\,$<code>yna</code>$)$ correspondant à cet iris !\n",
    "</blockquote>\n",
    "\n",
    "<span style='color:white;font-weight:bold;background-color:#F0573B;padding: 2px;font-size:20px'>d.</span> Calculer \"à la main\" ou dans la cellule ci-dessous, la distance entre $I$ et $A$ :"
   ]
  },
  {
   "cell_type": "code",
   "execution_count": null,
   "metadata": {},
   "outputs": [],
   "source": []
  },
  {
   "cell_type": "markdown",
   "metadata": {},
   "source": [
    "<span style='background-color:lightgreen;padding:10px'><b>Indication :</b> $\\sqrt{x}$ peut-être calculée avec python avec l'instruction : <code>x**0.5</code></span>"
   ]
  },
  {
   "cell_type": "markdown",
   "metadata": {},
   "source": [
    "<span style='color:white;font-weight:bold;background-color:#F0573B;padding: 2px;font-size:20px'>e.</span> Compléter la fonction nommée <code>distance</code> de paramètres : \n",
    "<ul>\n",
    "    <li><code>xa</code> et <code>ya</code> : l'abscisse et l'ordonnée d'un point $A$ <i>(dans un repère orthonormé)</i></li>\n",
    "    <li><code>xb</code> et <code>yb</code> : l'abscisse et l'ordonnée d'un point $B$ <i>(dans un repère orthonormé)</i></li>\n",
    "</ul>\n",
    "Elle renvoie la distance entre $A$ et $B$."
   ]
  },
  {
   "cell_type": "code",
   "execution_count": null,
   "metadata": {},
   "outputs": [],
   "source": [
    "def distance(xa,ya,xb,yb):\n",
    "    d = (xa - xb)**2 + ....................\n",
    "    return d**0.5"
   ]
  },
  {
   "cell_type": "markdown",
   "metadata": {},
   "source": [
    "<span style='background-color:lightgreen;padding:10px'><b>Indication :</b> $\\sqrt{x}$ peut-être calculée avec python avec l'instruction : <code>x**0.5</code></span>"
   ]
  },
  {
   "cell_type": "markdown",
   "metadata": {},
   "source": [
    "<span style='color:white;font-weight:bold;background-color:#F0573B;padding: 2px;font-size:20px'>f.</span> Pour appliquer la distance de $I$ à chaque point du nuage, exécuter :"
   ]
  },
  {
   "cell_type": "code",
   "execution_count": null,
   "metadata": {},
   "outputs": [],
   "source": [
    "distance(xn,yn,T['x_norm'],T['y_norm'])"
   ]
  },
  {
   "cell_type": "markdown",
   "metadata": {},
   "source": [
    "<span style='color:white;font-weight:bold;background-color:#F0573B;padding: 2px;font-size:20px'>g.</span> On ajoute à <code>T</code> cette colonne sous le nom <code>'d'</code>, exécuter :"
   ]
  },
  {
   "cell_type": "code",
   "execution_count": null,
   "metadata": {},
   "outputs": [],
   "source": [
    "T['d'] = distance(xn,yn,T['x_norm'],T['y_norm'])\n",
    "T.head()"
   ]
  },
  {
   "cell_type": "markdown",
   "metadata": {},
   "source": [
    "<span style='color:white;font-weight:bold;background-color:#F0573B;padding: 2px;font-size:20px'>h.</span> Pour trier la table <code>T</code> en rangeant par ordre croissant les valeurs de <code>'d'</code> et afficher les 5 premières lignes, exécuter : "
   ]
  },
  {
   "cell_type": "code",
   "execution_count": null,
   "metadata": {},
   "outputs": [],
   "source": [
    "T.sort_values('d').head(5)"
   ]
  },
  {
   "cell_type": "markdown",
   "metadata": {},
   "source": [
    "<span style='background-color:lightgreen;padding:10px'><b>Indication :</b> <code>sort_values(col)</code> trie par ordre croissant une table selon une colonne <b>col</b></span>"
   ]
  },
  {
   "cell_type": "markdown",
   "metadata": {},
   "source": [
    "<span style='color:white;font-weight:bold;background-color:black;width:12px;padding: 2px;font-size:20px'>4.</span> Quelle serait la variété de nouvel iris ?"
   ]
  },
  {
   "cell_type": "markdown",
   "metadata": {},
   "source": [
    "<h1 style=\"color:white;background-color:black;text-align:center\"> Partie E : nouveau cas</h1>"
   ]
  },
  {
   "cell_type": "markdown",
   "metadata": {},
   "source": [
    "<b><u>Objectif</u></b>\n",
    "<blockquote style=\"border-left: 10px solid black;background-color:#F0573B\">\n",
    "Un nouvel iris a pour dimensions : \n",
    "    <ul>\n",
    "        <li>$4,7$ cm de longueur</li>\n",
    "        <li>$1,7$ cm de largeur </li>\n",
    "    </ul>\n",
    "    Nous souhaitons <b>prédire</b> le nom de sa variété d'iris.\n",
    "</blockquote>"
   ]
  },
  {
   "cell_type": "markdown",
   "metadata": {},
   "source": [
    "<span style='color:white;font-weight:bold;background-color:black;width:12px;padding: 2px;font-size:20px'>1.</span> En réutilisant ce qui précède, prédire la variété de cet iris."
   ]
  },
  {
   "cell_type": "markdown",
   "metadata": {},
   "source": [
    "<b><u>Objectif</u></b>\n",
    "<blockquote style=\"border-left: 10px solid black;background-color:#F0573B\">\n",
    "    Nous souhaitons <b>automatiser</b> la <b>prédiction</b> du nom de la variété d'iris cherché.\n",
    "</blockquote>"
   ]
  },
  {
   "cell_type": "markdown",
   "metadata": {},
   "source": [
    "<span style='color:white;font-weight:bold;background-color:black;width:12px;padding: 2px;font-size:20px'>2.</span> Compléter la fonction nommée <code>nom</code> de paramètre <code>col</code> <i>(la colonne d'une table contenant des noms d'espèces d'iris)</i>.\n",
    "<br> Elle renvoie le nom de la variété d'iris la plus citée."
   ]
  },
  {
   "cell_type": "code",
   "execution_count": null,
   "metadata": {},
   "outputs": [],
   "source": [
    "def nom(col):\n",
    "    Ver, Vir, Set = 0, 0, 0\n",
    "    for x in col:\n",
    "        if x == 'Versicolor':\n",
    "            Ver = Ver + 1\n",
    "        elif x == 'Virginica':\n",
    "            Vir = ..............\n",
    "        elif x == 'Setosa':\n",
    "            Set = .............. \n",
    "    if Ver == max(Ver,Vir,Set):\n",
    "        return '.................'\n",
    "    elif Vir == max(Ver,Vir,Set):\n",
    "        return '.................'\n",
    "    elif .........................:\n",
    "        return 'Setosa'"
   ]
  },
  {
   "cell_type": "markdown",
   "metadata": {},
   "source": [
    "<span style='color:white;font-weight:bold;background-color:black;width:12px;padding: 2px;font-size:20px'>3.</span> Compléter la fonction nommée <code>prediction</code> de paramètres :\n",
    "<ul>\n",
    "    <li><code>x</code> : <i>la longueur d'un nouvel iris dont on souhaite prédire son espèce</i></li>\n",
    "    <li><code>y</code> : <i>sa largeur </i></li>\n",
    " </ul>\n",
    "<br> Elle renvoie le nom de sa variété d'iris."
   ]
  },
  {
   "cell_type": "code",
   "execution_count": null,
   "metadata": {},
   "outputs": [],
   "source": [
    "def prediction(x,y):\n",
    "    xn, yn = ..................................\n",
    "    T['d'] = ..................................\n",
    "    T1 = T.sort_values('d').head(5)\n",
    "    return ......................."
   ]
  },
  {
   "cell_type": "markdown",
   "metadata": {},
   "source": [
    "<span style='color:white;font-weight:bold;background-color:black;width:12px;padding: 2px;font-size:20px'>4.</span> Tester la fonction <code>prediction</code> pour un iris de longueur $5$ cm et de largeur $1,4$ cm."
   ]
  },
  {
   "cell_type": "code",
   "execution_count": null,
   "metadata": {},
   "outputs": [],
   "source": [
    "prediction(.......,.......)"
   ]
  },
  {
   "cell_type": "code",
   "execution_count": null,
   "metadata": {},
   "outputs": [],
   "source": []
  }
 ],
 "metadata": {
  "kernelspec": {
   "display_name": "Python 3",
   "language": "python",
   "name": "python3"
  },
  "language_info": {
   "codemirror_mode": {
    "name": "ipython",
    "version": 3
   },
   "file_extension": ".py",
   "mimetype": "text/x-python",
   "name": "python",
   "nbconvert_exporter": "python",
   "pygments_lexer": "ipython3",
   "version": "3.7.6"
  }
 },
 "nbformat": 4,
 "nbformat_minor": 2
}
